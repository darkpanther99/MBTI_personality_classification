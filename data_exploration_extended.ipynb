{
  "nbformat": 4,
  "nbformat_minor": 0,
  "metadata": {
    "colab": {
      "provenance": [],
      "collapsed_sections": []
    },
    "kernelspec": {
      "name": "python3",
      "display_name": "Python 3"
    },
    "language_info": {
      "name": "python"
    }
  },
  "cells": [
    {
      "cell_type": "markdown",
      "source": [
        "\n",
        "\n",
        "download the data\n",
        "put into a dataframe, look at how it looks like\n",
        "\n"
      ],
      "metadata": {
        "id": "f1QsGekTGN1k"
      }
    },
    {
      "cell_type": "markdown",
      "source": [
        "TODO:\n",
        "\n",
        "Check for non-english words\n",
        "Might remove extremely rare words as well"
      ],
      "metadata": {
        "id": "cJ3hbg7amNxV"
      }
    },
    {
      "cell_type": "code",
      "execution_count": 33,
      "metadata": {
        "id": "v3Cm4Mmn-CVb"
      },
      "outputs": [],
      "source": [
        "# General\n",
        "import collections\n",
        "import re\n",
        "\n",
        "# Pandas, numpy\n",
        "import numpy as np\n",
        "import pandas as pd\n",
        "\n",
        "# NLP related\n",
        "import nltk\n",
        "import spacy\n",
        "\n",
        "# from sklearn.feature_extraction.text import TfidfVectorizer, CountVectorizer\n",
        "\n",
        "# Plotting\n",
        "import matplotlib.pyplot as plt\n",
        "import seaborn as sns\n",
        "\n",
        "%matplotlib inline"
      ]
    },
    {
      "cell_type": "code",
      "source": [
        "nltk.download('punkt')\n",
        "nltk.download('stopwords')\n",
        "nltk.download('wordnet')"
      ],
      "metadata": {
        "colab": {
          "base_uri": "https://localhost:8080/"
        },
        "id": "UgQtp1kWvyjO",
        "outputId": "8a6b115e-455e-4380-ccab-909ce257407d"
      },
      "execution_count": 17,
      "outputs": [
        {
          "output_type": "stream",
          "name": "stderr",
          "text": [
            "[nltk_data] Downloading package punkt to /root/nltk_data...\n",
            "[nltk_data]   Unzipping tokenizers/punkt.zip.\n",
            "[nltk_data] Downloading package stopwords to /root/nltk_data...\n",
            "[nltk_data]   Unzipping corpora/stopwords.zip.\n",
            "[nltk_data] Downloading package wordnet to /root/nltk_data...\n"
          ]
        },
        {
          "output_type": "execute_result",
          "data": {
            "text/plain": [
              "True"
            ]
          },
          "metadata": {},
          "execution_count": 17
        }
      ]
    },
    {
      "cell_type": "markdown",
      "source": [
        "## Download dataset"
      ],
      "metadata": {
        "id": "IYVc74GwEPeF"
      }
    },
    {
      "cell_type": "code",
      "source": [
        "def download_dataset():\n",
        "  !curl https://storage.googleapis.com/atomic-bird-188013.appspot.com/archive.zip -o archive.zip\n",
        "  !unzip 'archive.zip'\n",
        "\n",
        "def load_dataset():\n",
        "  df = pd.read_csv('MBTI 500.csv')\n",
        "  return df"
      ],
      "metadata": {
        "id": "vUIuLBE_AQ9f"
      },
      "execution_count": 10,
      "outputs": []
    },
    {
      "cell_type": "code",
      "source": [
        "\n",
        "\n",
        "# download_dataset()\n",
        "\n",
        "df = load_dataset()\n",
        "# download and extract data"
      ],
      "metadata": {
        "id": "SAH_YIMdET2k"
      },
      "execution_count": 12,
      "outputs": []
    },
    {
      "cell_type": "markdown",
      "source": [
        "## High level data exploration\n",
        "\n",
        "Aims to clear additional words might not needed"
      ],
      "metadata": {
        "id": "L0SpRx3IrhIM"
      }
    },
    {
      "cell_type": "code",
      "source": [
        "df"
      ],
      "metadata": {
        "colab": {
          "base_uri": "https://localhost:8080/",
          "height": 424
        },
        "id": "ryoTczeGtIdR",
        "outputId": "80220f07-19a8-4b10-f005-96114c9537b1"
      },
      "execution_count": 15,
      "outputs": [
        {
          "output_type": "execute_result",
          "data": {
            "text/plain": [
              "                                                    posts  type\n",
              "0       know intj tool use interaction people excuse a...  INTJ\n",
              "1       rap music ehh opp yeah know valid well know fa...  INTJ\n",
              "2       preferably p hd low except wew lad video p min...  INTJ\n",
              "3       drink like wish could drink red wine give head...  INTJ\n",
              "4       space program ah bad deal meing freelance max ...  INTJ\n",
              "...                                                   ...   ...\n",
              "106062  stay frustrate world life want take long nap w...  INFP\n",
              "106063  fizzle around time mention sure mistake thing ...  INFP\n",
              "106064  schedule modify hey w intp strong wing underst...  INFP\n",
              "106065  enfj since january busy schedule able spend li...  INFP\n",
              "106066  feel like men good problem tell parent want te...  INFP\n",
              "\n",
              "[106067 rows x 2 columns]"
            ],
            "text/html": [
              "\n",
              "  <div id=\"df-ca079ce4-7d2a-4cb6-be30-f30005e04eac\">\n",
              "    <div class=\"colab-df-container\">\n",
              "      <div>\n",
              "<style scoped>\n",
              "    .dataframe tbody tr th:only-of-type {\n",
              "        vertical-align: middle;\n",
              "    }\n",
              "\n",
              "    .dataframe tbody tr th {\n",
              "        vertical-align: top;\n",
              "    }\n",
              "\n",
              "    .dataframe thead th {\n",
              "        text-align: right;\n",
              "    }\n",
              "</style>\n",
              "<table border=\"1\" class=\"dataframe\">\n",
              "  <thead>\n",
              "    <tr style=\"text-align: right;\">\n",
              "      <th></th>\n",
              "      <th>posts</th>\n",
              "      <th>type</th>\n",
              "    </tr>\n",
              "  </thead>\n",
              "  <tbody>\n",
              "    <tr>\n",
              "      <th>0</th>\n",
              "      <td>know intj tool use interaction people excuse a...</td>\n",
              "      <td>INTJ</td>\n",
              "    </tr>\n",
              "    <tr>\n",
              "      <th>1</th>\n",
              "      <td>rap music ehh opp yeah know valid well know fa...</td>\n",
              "      <td>INTJ</td>\n",
              "    </tr>\n",
              "    <tr>\n",
              "      <th>2</th>\n",
              "      <td>preferably p hd low except wew lad video p min...</td>\n",
              "      <td>INTJ</td>\n",
              "    </tr>\n",
              "    <tr>\n",
              "      <th>3</th>\n",
              "      <td>drink like wish could drink red wine give head...</td>\n",
              "      <td>INTJ</td>\n",
              "    </tr>\n",
              "    <tr>\n",
              "      <th>4</th>\n",
              "      <td>space program ah bad deal meing freelance max ...</td>\n",
              "      <td>INTJ</td>\n",
              "    </tr>\n",
              "    <tr>\n",
              "      <th>...</th>\n",
              "      <td>...</td>\n",
              "      <td>...</td>\n",
              "    </tr>\n",
              "    <tr>\n",
              "      <th>106062</th>\n",
              "      <td>stay frustrate world life want take long nap w...</td>\n",
              "      <td>INFP</td>\n",
              "    </tr>\n",
              "    <tr>\n",
              "      <th>106063</th>\n",
              "      <td>fizzle around time mention sure mistake thing ...</td>\n",
              "      <td>INFP</td>\n",
              "    </tr>\n",
              "    <tr>\n",
              "      <th>106064</th>\n",
              "      <td>schedule modify hey w intp strong wing underst...</td>\n",
              "      <td>INFP</td>\n",
              "    </tr>\n",
              "    <tr>\n",
              "      <th>106065</th>\n",
              "      <td>enfj since january busy schedule able spend li...</td>\n",
              "      <td>INFP</td>\n",
              "    </tr>\n",
              "    <tr>\n",
              "      <th>106066</th>\n",
              "      <td>feel like men good problem tell parent want te...</td>\n",
              "      <td>INFP</td>\n",
              "    </tr>\n",
              "  </tbody>\n",
              "</table>\n",
              "<p>106067 rows × 2 columns</p>\n",
              "</div>\n",
              "      <button class=\"colab-df-convert\" onclick=\"convertToInteractive('df-ca079ce4-7d2a-4cb6-be30-f30005e04eac')\"\n",
              "              title=\"Convert this dataframe to an interactive table.\"\n",
              "              style=\"display:none;\">\n",
              "        \n",
              "  <svg xmlns=\"http://www.w3.org/2000/svg\" height=\"24px\"viewBox=\"0 0 24 24\"\n",
              "       width=\"24px\">\n",
              "    <path d=\"M0 0h24v24H0V0z\" fill=\"none\"/>\n",
              "    <path d=\"M18.56 5.44l.94 2.06.94-2.06 2.06-.94-2.06-.94-.94-2.06-.94 2.06-2.06.94zm-11 1L8.5 8.5l.94-2.06 2.06-.94-2.06-.94L8.5 2.5l-.94 2.06-2.06.94zm10 10l.94 2.06.94-2.06 2.06-.94-2.06-.94-.94-2.06-.94 2.06-2.06.94z\"/><path d=\"M17.41 7.96l-1.37-1.37c-.4-.4-.92-.59-1.43-.59-.52 0-1.04.2-1.43.59L10.3 9.45l-7.72 7.72c-.78.78-.78 2.05 0 2.83L4 21.41c.39.39.9.59 1.41.59.51 0 1.02-.2 1.41-.59l7.78-7.78 2.81-2.81c.8-.78.8-2.07 0-2.86zM5.41 20L4 18.59l7.72-7.72 1.47 1.35L5.41 20z\"/>\n",
              "  </svg>\n",
              "      </button>\n",
              "      \n",
              "  <style>\n",
              "    .colab-df-container {\n",
              "      display:flex;\n",
              "      flex-wrap:wrap;\n",
              "      gap: 12px;\n",
              "    }\n",
              "\n",
              "    .colab-df-convert {\n",
              "      background-color: #E8F0FE;\n",
              "      border: none;\n",
              "      border-radius: 50%;\n",
              "      cursor: pointer;\n",
              "      display: none;\n",
              "      fill: #1967D2;\n",
              "      height: 32px;\n",
              "      padding: 0 0 0 0;\n",
              "      width: 32px;\n",
              "    }\n",
              "\n",
              "    .colab-df-convert:hover {\n",
              "      background-color: #E2EBFA;\n",
              "      box-shadow: 0px 1px 2px rgba(60, 64, 67, 0.3), 0px 1px 3px 1px rgba(60, 64, 67, 0.15);\n",
              "      fill: #174EA6;\n",
              "    }\n",
              "\n",
              "    [theme=dark] .colab-df-convert {\n",
              "      background-color: #3B4455;\n",
              "      fill: #D2E3FC;\n",
              "    }\n",
              "\n",
              "    [theme=dark] .colab-df-convert:hover {\n",
              "      background-color: #434B5C;\n",
              "      box-shadow: 0px 1px 3px 1px rgba(0, 0, 0, 0.15);\n",
              "      filter: drop-shadow(0px 1px 2px rgba(0, 0, 0, 0.3));\n",
              "      fill: #FFFFFF;\n",
              "    }\n",
              "  </style>\n",
              "\n",
              "      <script>\n",
              "        const buttonEl =\n",
              "          document.querySelector('#df-ca079ce4-7d2a-4cb6-be30-f30005e04eac button.colab-df-convert');\n",
              "        buttonEl.style.display =\n",
              "          google.colab.kernel.accessAllowed ? 'block' : 'none';\n",
              "\n",
              "        async function convertToInteractive(key) {\n",
              "          const element = document.querySelector('#df-ca079ce4-7d2a-4cb6-be30-f30005e04eac');\n",
              "          const dataTable =\n",
              "            await google.colab.kernel.invokeFunction('convertToInteractive',\n",
              "                                                     [key], {});\n",
              "          if (!dataTable) return;\n",
              "\n",
              "          const docLinkHtml = 'Like what you see? Visit the ' +\n",
              "            '<a target=\"_blank\" href=https://colab.research.google.com/notebooks/data_table.ipynb>data table notebook</a>'\n",
              "            + ' to learn more about interactive tables.';\n",
              "          element.innerHTML = '';\n",
              "          dataTable['output_type'] = 'display_data';\n",
              "          await google.colab.output.renderOutput(dataTable, element);\n",
              "          const docLink = document.createElement('div');\n",
              "          docLink.innerHTML = docLinkHtml;\n",
              "          element.appendChild(docLink);\n",
              "        }\n",
              "      </script>\n",
              "    </div>\n",
              "  </div>\n",
              "  "
            ]
          },
          "metadata": {},
          "execution_count": 15
        }
      ]
    },
    {
      "cell_type": "code",
      "source": [
        "df.info()"
      ],
      "metadata": {
        "colab": {
          "base_uri": "https://localhost:8080/"
        },
        "id": "y73NxRnoq_h_",
        "outputId": "791a0cb3-7fa0-406a-fa70-420092e066e7"
      },
      "execution_count": 14,
      "outputs": [
        {
          "output_type": "stream",
          "name": "stdout",
          "text": [
            "<class 'pandas.core.frame.DataFrame'>\n",
            "RangeIndex: 106067 entries, 0 to 106066\n",
            "Data columns (total 2 columns):\n",
            " #   Column  Non-Null Count   Dtype \n",
            "---  ------  --------------   ----- \n",
            " 0   posts   106067 non-null  object\n",
            " 1   type    106067 non-null  object\n",
            "dtypes: object(2)\n",
            "memory usage: 1.6+ MB\n"
          ]
        }
      ]
    },
    {
      "cell_type": "code",
      "source": [
        "# Plot distribution of data\n",
        "\n",
        "# num_col_count = len(numeric_columns_list)\n",
        "# plt.figure(figsize=(20, 7))\n",
        "\n",
        "# print(numeric_columns_list)\n",
        "# # return \n",
        "\n",
        "# for i in range(num_col_count):\n",
        "#   ax = plt.subplot(2, 4, i + 1)\n",
        "#   col_name = numeric_columns_list[i]\n",
        "#   col = obesity_df[col_name]\n",
        "#   plt.xlabel(col_name)\n",
        "#   ax.hist(col, bins='auto')\n",
        "\n",
        "# plt.tight_layout()\n"
      ],
      "metadata": {
        "id": "j19BPPQns8Dw"
      },
      "execution_count": null,
      "outputs": []
    },
    {
      "cell_type": "code",
      "source": [
        "%%time\n",
        "\n",
        "df_tokenized = df['posts'].apply(lambda x: nltk.word_tokenize(x)) # NLTK tokenizer, might use spaCy instead"
      ],
      "metadata": {
        "colab": {
          "base_uri": "https://localhost:8080/",
          "height": 398
        },
        "id": "hep8cRnOuux_",
        "outputId": "384929a4-6006-48e9-ba65-8b4b04816e81"
      },
      "execution_count": 19,
      "outputs": [
        {
          "output_type": "stream",
          "name": "stdout",
          "text": [
            "CPU times: user 3min 14s, sys: 3.68 s, total: 3min 18s\n",
            "Wall time: 3min 23s\n"
          ]
        },
        {
          "output_type": "execute_result",
          "data": {
            "text/plain": [
              "                                               posts  type\n",
              "0  know intj tool use interaction people excuse a...  INTJ\n",
              "1  rap music ehh opp yeah know valid well know fa...  INTJ\n",
              "2  preferably p hd low except wew lad video p min...  INTJ\n",
              "3  drink like wish could drink red wine give head...  INTJ\n",
              "4  space program ah bad deal meing freelance max ...  INTJ\n",
              "5  loose stop overthinking everything ruin friend...  INTJ\n",
              "6  often men one put chance get burn otherwise no...  INTJ\n",
              "7  early definitely relate quiet self destruction...  INTJ\n",
              "8  one full list would impossibly long quotable f...  INTJ\n",
              "9  technique information power share unless absol...  INTJ"
            ],
            "text/html": [
              "\n",
              "  <div id=\"df-98fdfecf-7d89-4b95-b49f-fcef403ff026\">\n",
              "    <div class=\"colab-df-container\">\n",
              "      <div>\n",
              "<style scoped>\n",
              "    .dataframe tbody tr th:only-of-type {\n",
              "        vertical-align: middle;\n",
              "    }\n",
              "\n",
              "    .dataframe tbody tr th {\n",
              "        vertical-align: top;\n",
              "    }\n",
              "\n",
              "    .dataframe thead th {\n",
              "        text-align: right;\n",
              "    }\n",
              "</style>\n",
              "<table border=\"1\" class=\"dataframe\">\n",
              "  <thead>\n",
              "    <tr style=\"text-align: right;\">\n",
              "      <th></th>\n",
              "      <th>posts</th>\n",
              "      <th>type</th>\n",
              "    </tr>\n",
              "  </thead>\n",
              "  <tbody>\n",
              "    <tr>\n",
              "      <th>0</th>\n",
              "      <td>know intj tool use interaction people excuse a...</td>\n",
              "      <td>INTJ</td>\n",
              "    </tr>\n",
              "    <tr>\n",
              "      <th>1</th>\n",
              "      <td>rap music ehh opp yeah know valid well know fa...</td>\n",
              "      <td>INTJ</td>\n",
              "    </tr>\n",
              "    <tr>\n",
              "      <th>2</th>\n",
              "      <td>preferably p hd low except wew lad video p min...</td>\n",
              "      <td>INTJ</td>\n",
              "    </tr>\n",
              "    <tr>\n",
              "      <th>3</th>\n",
              "      <td>drink like wish could drink red wine give head...</td>\n",
              "      <td>INTJ</td>\n",
              "    </tr>\n",
              "    <tr>\n",
              "      <th>4</th>\n",
              "      <td>space program ah bad deal meing freelance max ...</td>\n",
              "      <td>INTJ</td>\n",
              "    </tr>\n",
              "    <tr>\n",
              "      <th>5</th>\n",
              "      <td>loose stop overthinking everything ruin friend...</td>\n",
              "      <td>INTJ</td>\n",
              "    </tr>\n",
              "    <tr>\n",
              "      <th>6</th>\n",
              "      <td>often men one put chance get burn otherwise no...</td>\n",
              "      <td>INTJ</td>\n",
              "    </tr>\n",
              "    <tr>\n",
              "      <th>7</th>\n",
              "      <td>early definitely relate quiet self destruction...</td>\n",
              "      <td>INTJ</td>\n",
              "    </tr>\n",
              "    <tr>\n",
              "      <th>8</th>\n",
              "      <td>one full list would impossibly long quotable f...</td>\n",
              "      <td>INTJ</td>\n",
              "    </tr>\n",
              "    <tr>\n",
              "      <th>9</th>\n",
              "      <td>technique information power share unless absol...</td>\n",
              "      <td>INTJ</td>\n",
              "    </tr>\n",
              "  </tbody>\n",
              "</table>\n",
              "</div>\n",
              "      <button class=\"colab-df-convert\" onclick=\"convertToInteractive('df-98fdfecf-7d89-4b95-b49f-fcef403ff026')\"\n",
              "              title=\"Convert this dataframe to an interactive table.\"\n",
              "              style=\"display:none;\">\n",
              "        \n",
              "  <svg xmlns=\"http://www.w3.org/2000/svg\" height=\"24px\"viewBox=\"0 0 24 24\"\n",
              "       width=\"24px\">\n",
              "    <path d=\"M0 0h24v24H0V0z\" fill=\"none\"/>\n",
              "    <path d=\"M18.56 5.44l.94 2.06.94-2.06 2.06-.94-2.06-.94-.94-2.06-.94 2.06-2.06.94zm-11 1L8.5 8.5l.94-2.06 2.06-.94-2.06-.94L8.5 2.5l-.94 2.06-2.06.94zm10 10l.94 2.06.94-2.06 2.06-.94-2.06-.94-.94-2.06-.94 2.06-2.06.94z\"/><path d=\"M17.41 7.96l-1.37-1.37c-.4-.4-.92-.59-1.43-.59-.52 0-1.04.2-1.43.59L10.3 9.45l-7.72 7.72c-.78.78-.78 2.05 0 2.83L4 21.41c.39.39.9.59 1.41.59.51 0 1.02-.2 1.41-.59l7.78-7.78 2.81-2.81c.8-.78.8-2.07 0-2.86zM5.41 20L4 18.59l7.72-7.72 1.47 1.35L5.41 20z\"/>\n",
              "  </svg>\n",
              "      </button>\n",
              "      \n",
              "  <style>\n",
              "    .colab-df-container {\n",
              "      display:flex;\n",
              "      flex-wrap:wrap;\n",
              "      gap: 12px;\n",
              "    }\n",
              "\n",
              "    .colab-df-convert {\n",
              "      background-color: #E8F0FE;\n",
              "      border: none;\n",
              "      border-radius: 50%;\n",
              "      cursor: pointer;\n",
              "      display: none;\n",
              "      fill: #1967D2;\n",
              "      height: 32px;\n",
              "      padding: 0 0 0 0;\n",
              "      width: 32px;\n",
              "    }\n",
              "\n",
              "    .colab-df-convert:hover {\n",
              "      background-color: #E2EBFA;\n",
              "      box-shadow: 0px 1px 2px rgba(60, 64, 67, 0.3), 0px 1px 3px 1px rgba(60, 64, 67, 0.15);\n",
              "      fill: #174EA6;\n",
              "    }\n",
              "\n",
              "    [theme=dark] .colab-df-convert {\n",
              "      background-color: #3B4455;\n",
              "      fill: #D2E3FC;\n",
              "    }\n",
              "\n",
              "    [theme=dark] .colab-df-convert:hover {\n",
              "      background-color: #434B5C;\n",
              "      box-shadow: 0px 1px 3px 1px rgba(0, 0, 0, 0.15);\n",
              "      filter: drop-shadow(0px 1px 2px rgba(0, 0, 0, 0.3));\n",
              "      fill: #FFFFFF;\n",
              "    }\n",
              "  </style>\n",
              "\n",
              "      <script>\n",
              "        const buttonEl =\n",
              "          document.querySelector('#df-98fdfecf-7d89-4b95-b49f-fcef403ff026 button.colab-df-convert');\n",
              "        buttonEl.style.display =\n",
              "          google.colab.kernel.accessAllowed ? 'block' : 'none';\n",
              "\n",
              "        async function convertToInteractive(key) {\n",
              "          const element = document.querySelector('#df-98fdfecf-7d89-4b95-b49f-fcef403ff026');\n",
              "          const dataTable =\n",
              "            await google.colab.kernel.invokeFunction('convertToInteractive',\n",
              "                                                     [key], {});\n",
              "          if (!dataTable) return;\n",
              "\n",
              "          const docLinkHtml = 'Like what you see? Visit the ' +\n",
              "            '<a target=\"_blank\" href=https://colab.research.google.com/notebooks/data_table.ipynb>data table notebook</a>'\n",
              "            + ' to learn more about interactive tables.';\n",
              "          element.innerHTML = '';\n",
              "          dataTable['output_type'] = 'display_data';\n",
              "          await google.colab.output.renderOutput(dataTable, element);\n",
              "          const docLink = document.createElement('div');\n",
              "          docLink.innerHTML = docLinkHtml;\n",
              "          element.appendChild(docLink);\n",
              "        }\n",
              "      </script>\n",
              "    </div>\n",
              "  </div>\n",
              "  "
            ]
          },
          "metadata": {},
          "execution_count": 19
        }
      ]
    },
    {
      "cell_type": "code",
      "source": [
        "df_tokenized[:10]"
      ],
      "metadata": {
        "colab": {
          "base_uri": "https://localhost:8080/"
        },
        "id": "PTx7xZjVwsrJ",
        "outputId": "14568ae9-0e16-4533-d57b-e29fc951027a"
      },
      "execution_count": 20,
      "outputs": [
        {
          "output_type": "execute_result",
          "data": {
            "text/plain": [
              "0         [know, intj, tool, use, interaction, people, e...\n",
              "1         [rap, music, ehh, opp, yeah, know, valid, well...\n",
              "2         [preferably, p, hd, low, except, wew, lad, vid...\n",
              "3         [drink, like, wish, could, drink, red, wine, g...\n",
              "4         [space, program, ah, bad, deal, meing, freelan...\n",
              "                                ...                        \n",
              "106062    [stay, frustrate, world, life, want, take, lon...\n",
              "106063    [fizzle, around, time, mention, sure, mistake,...\n",
              "106064    [schedule, modify, hey, w, intp, strong, wing,...\n",
              "106065    [enfj, since, january, busy, schedule, able, s...\n",
              "106066    [feel, like, men, good, problem, tell, parent,...\n",
              "Name: posts, Length: 106067, dtype: object"
            ]
          },
          "metadata": {},
          "execution_count": 20
        }
      ]
    },
    {
      "cell_type": "code",
      "source": [
        "# tokenized_docs = [[word.lower() for word in doc] for doc in df_tokenized]\n"
      ],
      "metadata": {
        "id": "7B0Zjr4XwR1E"
      },
      "execution_count": null,
      "outputs": []
    },
    {
      "cell_type": "code",
      "source": [
        "# len_words = np.array([len(tokenized_doc) for tokenized_doc in tokenized_docs])\n",
        "\n",
        "# df[:10]"
      ],
      "metadata": {
        "id": "k03sCswBvXP6"
      },
      "execution_count": null,
      "outputs": []
    },
    {
      "cell_type": "code",
      "source": [
        "\n",
        "all_words = [word for doc in tokenized_docs for word in doc]\n",
        "\n",
        "all_words_counter = collections.Counter(all_words)\n",
        "all_words_counter.most_common(50)"
      ],
      "metadata": {
        "id": "Vl2bbd7GwOXS"
      },
      "execution_count": null,
      "outputs": []
    },
    {
      "cell_type": "code",
      "source": [
        "all_words = [word for doc in df_tokenized for word in doc]\n",
        "\n",
        "all_words_counter = collections.Counter(all_words)\n",
        "all_words_counter.most_common(50)\n",
        "\n",
        "x, y = zip(*all_words_counter.most_common(40))\n",
        "fig, ax = plt.subplots(figsize=(40, 10))\n",
        "ax.bar(x, y)\n",
        "ax.set_title('The 40 most common words')"
      ],
      "metadata": {
        "colab": {
          "base_uri": "https://localhost:8080/",
          "height": 585
        },
        "id": "JIhVmptfxRQt",
        "outputId": "289285b4-e117-4ff7-e8fc-41879ac509be"
      },
      "execution_count": 23,
      "outputs": [
        {
          "output_type": "execute_result",
          "data": {
            "text/plain": [
              "Text(0.5, 1.0, 'The 40 most common words')"
            ]
          },
          "metadata": {},
          "execution_count": 23
        },
        {
          "output_type": "display_data",
          "data": {
            "text/plain": [
              "<Figure size 2880x720 with 1 Axes>"
            ],
            "image/png": "[encoded data removed]"
          },
          "metadata": {
            "needs_background": "light"
          }
        }
      ]
    },
    {
      "cell_type": "code",
      "source": [
        "# filtered_words_stop = [word for word in alll_words if word not in stopwords]\n",
        "# filtered_words_stop_counter = collections.Counter(filtered_words_stop)\n",
        "\n",
        "def has_numbers(inputString):\n",
        "    return any(char.isdigit() for char in inputString)\n",
        "\n",
        "df_contains_digits = [word for word in all_words if word.isdigit() or has_numbers(word)]\n",
        "                                                     \n",
        "\n",
        "\n",
        "# var string = \"asdas\"\n",
        "# string.is\n",
        "\n",
        "# digits\n",
        "# print('Numebr of digits')\n",
        "# df['cleaned']=df['cleaned'].apply(lambda x: re.sub('\\w*\\d\\w*','', x))\n",
        "\n",
        "# digits\n",
        "\n"
      ],
      "metadata": {
        "id": "XKaH9BWmxdAL"
      },
      "execution_count": 28,
      "outputs": []
    },
    {
      "cell_type": "code",
      "source": [
        "# This probably should removed\n",
        "df_contains_digits"
      ],
      "metadata": {
        "colab": {
          "base_uri": "https://localhost:8080/"
        },
        "id": "Xh_PAhxq2tEy",
        "outputId": "9f1c17f8-c1b0-4019-e554-aa2f4a0d8ce2"
      },
      "execution_count": 31,
      "outputs": [
        {
          "output_type": "execute_result",
          "data": {
            "text/plain": [
              "['thoughty²',\n",
              " 'office²',\n",
              " 'sandbox²',\n",
              " 'mi²',\n",
              " 'gram²',\n",
              " 'ñðµð¼ð½ð¾ð¹',\n",
              " '³',\n",
              " 'x₁',\n",
              " 'y₁',\n",
              " 'z₁',\n",
              " 'm²',\n",
              " 'ft²',\n",
              " '²',\n",
              " 'm²',\n",
              " 'sledgehammer¹',\n",
              " '¹',\n",
              " 'karaoke¹',\n",
              " '¹',\n",
              " 'mc²',\n",
              " 'relationships¹',\n",
              " 'physically²',\n",
              " 'temporally³',\n",
              " '¹',\n",
              " '²',\n",
              " '³',\n",
              " 'km²',\n",
              " 'r²',\n",
              " 'x²',\n",
              " '³',\n",
              " 'm²',\n",
              " 'istp²',\n",
              " '²',\n",
              " 'r²',\n",
              " 'i²',\n",
              " 'n²',\n",
              " 't²',\n",
              " 'p²',\n",
              " 'a²',\n",
              " 'b²',\n",
              " 'c²',\n",
              " 'mc²',\n",
              " 'e²',\n",
              " 'mc²',\n",
              " '²',\n",
              " '²',\n",
              " '²',\n",
              " 'm²',\n",
              " 'm²',\n",
              " 'km²',\n",
              " 'km²',\n",
              " 'm²',\n",
              " 'km²',\n",
              " 'à¹ââ',\n",
              " 'à¹',\n",
              " '³',\n",
              " 'again²',\n",
              " '³',\n",
              " '²',\n",
              " '²',\n",
              " 'ðµð¹',\n",
              " 'ðð³ððñœð½ððºð¾ð²',\n",
              " 'ñð¾ñð¾ð³ñðñðð']"
            ]
          },
          "metadata": {},
          "execution_count": 31
        }
      ]
    },
    {
      "cell_type": "markdown",
      "source": [
        "These are very odd results, we might need to remove these"
      ],
      "metadata": {
        "id": "_4PMB1cn26oN"
      }
    },
    {
      "cell_type": "code",
      "source": [],
      "metadata": {
        "id": "NKm8ZkSd3NlN"
      },
      "execution_count": null,
      "outputs": []
    },
    {
      "cell_type": "code",
      "source": [
        "# We might wanna double check stopwords\n",
        "stopwords = set(nltk.corpus.stopwords.words('english'))\n",
        "stopwords"
      ],
      "metadata": {
        "id": "5xfhDV-8256G"
      },
      "execution_count": null,
      "outputs": []
    },
    {
      "cell_type": "markdown",
      "source": [
        "## Not so high level data exploration"
      ],
      "metadata": {
        "id": "Gs6Lr1UpryXI"
      }
    }
  ]
}