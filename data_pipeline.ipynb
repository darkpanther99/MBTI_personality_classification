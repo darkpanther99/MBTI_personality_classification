{
 "cells": [
  {
   "cell_type": "code",
   "execution_count": 51,
   "metadata": {
    "id": "fPEZ4v3IPGgB",
    "executionInfo": {
     "status": "ok",
     "timestamp": 1666007823374,
     "user_tz": -120,
     "elapsed": 353,
     "user": {
      "displayName": "Milán Kriston",
      "userId": "16872317853158322273"
     }
    }
   },
   "outputs": [
    {
     "ename": "AttributeError",
     "evalue": "module 'torch' has no attribute '_utils_internal'",
     "output_type": "error",
     "traceback": [
      "\u001B[1;31m---------------------------------------------------------------------------\u001B[0m",
      "\u001B[1;31mAttributeError\u001B[0m                            Traceback (most recent call last)",
      "Cell \u001B[1;32mIn [51], line 4\u001B[0m\n\u001B[0;32m      2\u001B[0m \u001B[38;5;28;01mimport\u001B[39;00m \u001B[38;5;21;01mtorch\u001B[39;00m\n\u001B[0;32m      3\u001B[0m \u001B[38;5;28;01mfrom\u001B[39;00m \u001B[38;5;21;01mtorch\u001B[39;00m\u001B[38;5;21;01m.\u001B[39;00m\u001B[38;5;21;01mutils\u001B[39;00m\u001B[38;5;21;01m.\u001B[39;00m\u001B[38;5;21;01mdata\u001B[39;00m \u001B[38;5;28;01mimport\u001B[39;00m Dataset, DataLoader, random_split\n\u001B[1;32m----> 4\u001B[0m \u001B[38;5;28;01mfrom\u001B[39;00m \u001B[38;5;21;01mtorchtext\u001B[39;00m\u001B[38;5;21;01m.\u001B[39;00m\u001B[38;5;21;01mdata\u001B[39;00m\u001B[38;5;21;01m.\u001B[39;00m\u001B[38;5;21;01mutils\u001B[39;00m \u001B[38;5;28;01mimport\u001B[39;00m get_tokenizer\n\u001B[0;32m      5\u001B[0m \u001B[38;5;28;01mfrom\u001B[39;00m \u001B[38;5;21;01mtorchtext\u001B[39;00m\u001B[38;5;21;01m.\u001B[39;00m\u001B[38;5;21;01mvocab\u001B[39;00m \u001B[38;5;28;01mimport\u001B[39;00m build_vocab_from_iterator\n\u001B[0;32m      6\u001B[0m \u001B[38;5;28;01mfrom\u001B[39;00m \u001B[38;5;21;01msklearn\u001B[39;00m\u001B[38;5;21;01m.\u001B[39;00m\u001B[38;5;21;01mfeature_extraction\u001B[39;00m\u001B[38;5;21;01m.\u001B[39;00m\u001B[38;5;21;01mtext\u001B[39;00m \u001B[38;5;28;01mimport\u001B[39;00m TfidfVectorizer\n",
      "File \u001B[1;32md:\\egyetem\\elte\\2.felev\\aml\\mbti_personality_classification\\venv\\lib\\site-packages\\torchtext\\__init__.py:6\u001B[0m\n\u001B[0;32m      3\u001B[0m \u001B[38;5;28;01mfrom\u001B[39;00m \u001B[38;5;21;01mtorch\u001B[39;00m\u001B[38;5;21;01m.\u001B[39;00m\u001B[38;5;21;01mhub\u001B[39;00m \u001B[38;5;28;01mimport\u001B[39;00m _get_torch_home\n\u001B[0;32m      5\u001B[0m \u001B[38;5;66;03m# the following import has to happen first in order to load the torchtext C++ library\u001B[39;00m\n\u001B[1;32m----> 6\u001B[0m \u001B[38;5;28;01mfrom\u001B[39;00m \u001B[38;5;21;01mtorchtext\u001B[39;00m \u001B[38;5;28;01mimport\u001B[39;00m _extension  \u001B[38;5;66;03m# noqa: F401\u001B[39;00m\n\u001B[0;32m      8\u001B[0m _TEXT_BUCKET \u001B[38;5;241m=\u001B[39m \u001B[38;5;124m\"\u001B[39m\u001B[38;5;124mhttps://download.pytorch.org/models/text/\u001B[39m\u001B[38;5;124m\"\u001B[39m\n\u001B[0;32m     10\u001B[0m _CACHE_DIR \u001B[38;5;241m=\u001B[39m os\u001B[38;5;241m.\u001B[39mpath\u001B[38;5;241m.\u001B[39mexpanduser(os\u001B[38;5;241m.\u001B[39mpath\u001B[38;5;241m.\u001B[39mjoin(_get_torch_home(), \u001B[38;5;124m\"\u001B[39m\u001B[38;5;124mtext\u001B[39m\u001B[38;5;124m\"\u001B[39m))\n",
      "File \u001B[1;32md:\\egyetem\\elte\\2.felev\\aml\\mbti_personality_classification\\venv\\lib\\site-packages\\torchtext\\_extension.py:64\u001B[0m\n\u001B[0;32m     59\u001B[0m     \u001B[38;5;66;03m# This import is for initializing the methods registered via PyBind11\u001B[39;00m\n\u001B[0;32m     60\u001B[0m     \u001B[38;5;66;03m# This has to happen after the base library is loaded\u001B[39;00m\n\u001B[0;32m     61\u001B[0m     \u001B[38;5;28;01mfrom\u001B[39;00m \u001B[38;5;21;01mtorchtext\u001B[39;00m \u001B[38;5;28;01mimport\u001B[39;00m _torchtext  \u001B[38;5;66;03m# noqa\u001B[39;00m\n\u001B[1;32m---> 64\u001B[0m \u001B[43m_init_extension\u001B[49m\u001B[43m(\u001B[49m\u001B[43m)\u001B[49m\n",
      "File \u001B[1;32md:\\egyetem\\elte\\2.felev\\aml\\mbti_personality_classification\\venv\\lib\\site-packages\\torchtext\\_extension.py:58\u001B[0m, in \u001B[0;36m_init_extension\u001B[1;34m()\u001B[0m\n\u001B[0;32m     55\u001B[0m \u001B[38;5;28;01mif\u001B[39;00m \u001B[38;5;129;01mnot\u001B[39;00m _mod_utils\u001B[38;5;241m.\u001B[39mis_module_available(\u001B[38;5;124m\"\u001B[39m\u001B[38;5;124mtorchtext._torchtext\u001B[39m\u001B[38;5;124m\"\u001B[39m):\n\u001B[0;32m     56\u001B[0m     \u001B[38;5;28;01mraise\u001B[39;00m \u001B[38;5;167;01mImportError\u001B[39;00m(\u001B[38;5;124m\"\u001B[39m\u001B[38;5;124mtorchtext C++ Extension is not found.\u001B[39m\u001B[38;5;124m\"\u001B[39m)\n\u001B[1;32m---> 58\u001B[0m \u001B[43m_load_lib\u001B[49m\u001B[43m(\u001B[49m\u001B[38;5;124;43m\"\u001B[39;49m\u001B[38;5;124;43mlibtorchtext\u001B[39;49m\u001B[38;5;124;43m\"\u001B[39;49m\u001B[43m)\u001B[49m\n\u001B[0;32m     59\u001B[0m \u001B[38;5;66;03m# This import is for initializing the methods registered via PyBind11\u001B[39;00m\n\u001B[0;32m     60\u001B[0m \u001B[38;5;66;03m# This has to happen after the base library is loaded\u001B[39;00m\n\u001B[0;32m     61\u001B[0m \u001B[38;5;28;01mfrom\u001B[39;00m \u001B[38;5;21;01mtorchtext\u001B[39;00m \u001B[38;5;28;01mimport\u001B[39;00m _torchtext\n",
      "File \u001B[1;32md:\\egyetem\\elte\\2.felev\\aml\\mbti_personality_classification\\venv\\lib\\site-packages\\torchtext\\_extension.py:50\u001B[0m, in \u001B[0;36m_load_lib\u001B[1;34m(lib)\u001B[0m\n\u001B[0;32m     48\u001B[0m \u001B[38;5;28;01mif\u001B[39;00m \u001B[38;5;129;01mnot\u001B[39;00m path\u001B[38;5;241m.\u001B[39mexists():\n\u001B[0;32m     49\u001B[0m     \u001B[38;5;28;01mreturn\u001B[39;00m \u001B[38;5;28;01mFalse\u001B[39;00m\n\u001B[1;32m---> 50\u001B[0m \u001B[43mtorch\u001B[49m\u001B[38;5;241;43m.\u001B[39;49m\u001B[43mops\u001B[49m\u001B[38;5;241;43m.\u001B[39;49m\u001B[43mload_library\u001B[49m\u001B[43m(\u001B[49m\u001B[43mpath\u001B[49m\u001B[43m)\u001B[49m\n\u001B[0;32m     51\u001B[0m \u001B[38;5;28;01mreturn\u001B[39;00m \u001B[38;5;28;01mTrue\u001B[39;00m\n",
      "File \u001B[1;32md:\\egyetem\\elte\\2.felev\\aml\\mbti_personality_classification\\venv\\lib\\site-packages\\torch\\_ops.py:250\u001B[0m, in \u001B[0;36m_Ops.load_library\u001B[1;34m(self, path)\u001B[0m\n\u001B[0;32m    247\u001B[0m \u001B[38;5;28;01mif\u001B[39;00m sys\u001B[38;5;241m.\u001B[39mexecutable \u001B[38;5;241m==\u001B[39m \u001B[38;5;124m\"\u001B[39m\u001B[38;5;124mtorch_deploy\u001B[39m\u001B[38;5;124m\"\u001B[39m:\n\u001B[0;32m    248\u001B[0m     \u001B[38;5;28;01mreturn\u001B[39;00m\n\u001B[1;32m--> 250\u001B[0m path \u001B[38;5;241m=\u001B[39m \u001B[43mtorch\u001B[49m\u001B[38;5;241;43m.\u001B[39;49m\u001B[43m_utils_internal\u001B[49m\u001B[38;5;241m.\u001B[39mresolve_library_path(path)\n\u001B[0;32m    251\u001B[0m \u001B[38;5;28;01mwith\u001B[39;00m dl_open_guard():\n\u001B[0;32m    252\u001B[0m     \u001B[38;5;66;03m# Import the shared library into the process, thus running its\u001B[39;00m\n\u001B[0;32m    253\u001B[0m     \u001B[38;5;66;03m# static (global) initialization code in order to register custom\u001B[39;00m\n\u001B[0;32m    254\u001B[0m     \u001B[38;5;66;03m# operators with the JIT.\u001B[39;00m\n\u001B[0;32m    255\u001B[0m     ctypes\u001B[38;5;241m.\u001B[39mCDLL(path)\n",
      "\u001B[1;31mAttributeError\u001B[0m: module 'torch' has no attribute '_utils_internal'"
     ]
    }
   ],
   "source": [
    "import pandas as pd\n",
    "import torch\n",
    "from torch.utils.data import Dataset, DataLoader, random_split\n",
    "from torchtext.data.utils import get_tokenizer\n",
    "from torchtext.vocab import build_vocab_from_iterator\n",
    "from sklearn.feature_extraction.text import TfidfVectorizer\n",
    "from torchtext.vocab import GloVe,vocab\n",
    "from torchtext import data"
   ]
  },
  {
   "cell_type": "code",
   "source": [
    "from google.colab import drive\n",
    "drive.mount('/content/drive')"
   ],
   "metadata": {
    "colab": {
     "base_uri": "https://localhost:8080/"
    },
    "id": "cDu5JT9-QC2z",
    "executionInfo": {
     "status": "ok",
     "timestamp": 1666002559404,
     "user_tz": -120,
     "elapsed": 25879,
     "user": {
      "displayName": "Milán Kriston",
      "userId": "16872317853158322273"
     }
    },
    "outputId": "55a12ffe-cfcd-447d-b13d-edabd77c1af8"
   },
   "execution_count": null,
   "outputs": []
  },
  {
   "cell_type": "code",
   "source": [
    "%cd /content/drive/My Drive/Colab Notebooks/NLP"
   ],
   "metadata": {
    "colab": {
     "base_uri": "https://localhost:8080/"
    },
    "id": "Gpi4SDQgQbHf",
    "executionInfo": {
     "status": "ok",
     "timestamp": 1665931530222,
     "user_tz": -120,
     "elapsed": 6,
     "user": {
      "displayName": "Milán Kriston",
      "userId": "16872317853158322273"
     }
    },
    "outputId": "445e3eea-157a-49d4-da4b-8487797d39c1"
   },
   "execution_count": null,
   "outputs": []
  },
  {
   "cell_type": "code",
   "execution_count": 45,
   "metadata": {
    "pycharm": {
     "name": "#%%\n"
    },
    "id": "uEDu6IOCPGgH",
    "executionInfo": {
     "status": "ok",
     "timestamp": 1666002559405,
     "user_tz": -120,
     "elapsed": 8,
     "user": {
      "displayName": "Milán Kriston",
      "userId": "16872317853158322273"
     }
    }
   },
   "outputs": [],
   "source": [
    "def convert_personality_type_to_binary(mbti_type):\n",
    "    mapper = {\n",
    "        'I':0,\n",
    "        'E':1,\n",
    "        'N':0,\n",
    "        'S':1,\n",
    "        'T':0,\n",
    "        'F':1,\n",
    "        'J':0,\n",
    "        'P':1,\n",
    "    }\n",
    "\n",
    "    return [mapper[i] for i in mbti_type]\n",
    "\n",
    "def convert_personality_type_to_int(mbti_type):\n",
    "    types = [\n",
    "                'INTJ', 'INTP', 'ISFJ', 'ISFP',\n",
    "                'ISTJ', 'ISTP', 'ENFJ', 'ENFP',\n",
    "                'ENTJ', 'ENTP','ESFJ', 'ESFP',\n",
    "                'ESTJ', 'ESTP', 'INFJ', 'INFP'\n",
    "            ]\n",
    "    ints = [i for i in range(len(types))]\n",
    "    mapper = dict(zip(types, ints))\n",
    "\n",
    "    return mapper[mbti_type]"
   ]
  },
  {
   "cell_type": "code",
   "execution_count": 46,
   "metadata": {
    "pycharm": {
     "name": "#%%\n"
    },
    "id": "qFv3HAtIPGgI",
    "executionInfo": {
     "status": "ok",
     "timestamp": 1666007954328,
     "user_tz": -120,
     "elapsed": 536,
     "user": {
      "displayName": "Milán Kriston",
      "userId": "16872317853158322273"
     }
    }
   },
   "outputs": [],
   "source": [
    "class MBTIDataset(Dataset):\n",
    "    def __init__(self, data_path, vectorizing_method = None, binary_outputs = False, max_seq_len=500):\n",
    "        \"\"\"\n",
    "        Vectorizing methods:\n",
    "        None - returns raw text\n",
    "        basic - basic builtin pytorch vectorizer\n",
    "        TfIdf - tf-idf vectorizer\n",
    "        GloVe - Global Vectors pretrained embedding\n",
    "        \"\"\"\n",
    "        self.df = pd.read_csv(data_path)\n",
    "        self.vectorizing_method = vectorizing_method\n",
    "        self.max_seq_len = max_seq_len\n",
    "        self.split_dataframe(self.max_seq_len)\n",
    "\n",
    "        if vectorizing_method:\n",
    "            if vectorizing_method.lower == 'basic':\n",
    "                self.tokenizer = get_tokenizer('basic_english')\n",
    "                self.vocab = build_vocab_from_iterator(self.yield_tokens_from_dataframe(), specials=['<unk>'])\n",
    "                self.vocab.set_default_index(self.vocab[\"<unk>\"])\n",
    "\n",
    "            if vectorizing_method.lower == 'tfidf' or vectorizing_method.lower == 'tf-idf':\n",
    "                self.tokenizer = TfidfVectorizer(stop_words= 'english')\n",
    "                self.vocab = self.tokenizer.fit_transform(self.df['posts']) # Sparse matrix representation - could use different field names\n",
    "            if vectorizing_method.lower == 'glove':\n",
    "                unk_index = 0\n",
    "                self.global_vectors = GloVe(name='6B', dim=50)\n",
    "                self.vocab=vocab(self.global_vectors.stoi)\n",
    "                self.vocab.insert_token(\"<unk>\",unk_index)\n",
    "                self.vocab.set_default_index(unk_index)\n",
    "\n",
    "                self.pretrained_embeddings = self.global_vectors.vectors\n",
    "                self.pretrained_embeddings = torch.cat((torch.zeros(1,self.pretrained_embeddings.shape[1]),self.pretrained_embeddings))\n",
    "\n",
    "\n",
    "        self.binary_outputs = binary_outputs\n",
    "        if binary_outputs:\n",
    "            self.df['type'] = self.df['type'].apply(convert_personality_type_to_binary)\n",
    "        else:\n",
    "            self.df['type'] = self.df['type'].apply(convert_personality_type_to_int)\n",
    "\n",
    "    def yield_tokens_from_dataframe(self):\n",
    "        for post in self.df['posts']:\n",
    "            yield self.tokenizer(post)\n",
    "\n",
    "    def split_dataframe(self, new_seq_len):\n",
    "        new_df = pd.DataFrame(columns=self.df.columns)\n",
    "        new_posts = []\n",
    "        new_types = []\n",
    "        for idx, row in self.df.iterrows():\n",
    "            split_posts = row['posts'].split(' ')\n",
    "            i = 0\n",
    "            while i < len(split_posts):\n",
    "                new_posts.append((' ').join(split_posts[i:i+new_seq_len]))\n",
    "                new_types.append(row['type'])\n",
    "                i += new_seq_len\n",
    "\n",
    "        new_df['posts'] = new_posts\n",
    "        new_df['type'] = new_types\n",
    "        self.df = new_df\n",
    "\n",
    "    def __len__(self):\n",
    "        return len(self.df)\n",
    "\n",
    "    def __getitem__(self, idx):\n",
    "        if idx >= len(self): raise IndexError\n",
    "\n",
    "        if not self.vectorizing_method :\n",
    "            return self.df['posts'][idx], self.df['type'][idx]  #Return raw text\n",
    "\n",
    "        input_text = self.vocab(self.df['posts'][idx].split(' '))\n",
    "        if len(input_text) < self.max_seq_len:\n",
    "            input_text.extend([0] * (self.max_seq_len-len(input_text)))\n",
    "        label = self.df['type'][idx]\n",
    "\n",
    "        return input_text[0:self.max_seq_len], label"
   ]
  },
  {
   "cell_type": "code",
   "execution_count": 50,
   "outputs": [
    {
     "name": "stdout",
     "output_type": "stream",
     "text": [
      "1073461\n"
     ]
    }
   ],
   "source": [
    "PATH =  '/content/drive/MyDrive/Colab Notebooks/NLP/MBTI 500.csv'##'data/MBTI 500.csv'\n",
    "ds = MBTIDataset(PATH, 'GloVe', binary_outputs=False, max_seq_len=50)\n",
    "train_set_size = int(len(ds)*0.7)\n",
    "val_set_size = int(len(ds)*0.2)\n",
    "test_set_size = len(ds) - train_set_size - val_set_size\n",
    "train_ds, val_ds, test_ds = random_split(ds, [train_set_size, val_set_size, test_set_size])"
   ],
   "metadata": {
    "collapsed": false,
    "pycharm": {
     "name": "#%%\n"
    }
   }
  },
  {
   "cell_type": "code",
   "execution_count": null,
   "outputs": [],
   "source": [
    "train_dataloader = DataLoader(train_ds, batch_size=16, shuffle=True)\n",
    "val_dataloader = DataLoader(val_ds, batch_size=16, shuffle=True)\n",
    "test_dataloader = DataLoader(test_ds, batch_size=16, shuffle=True)\n",
    "i, l = iter(train_dataloader).__next__()\n",
    "print(i)\n",
    "print(l)"
   ],
   "metadata": {
    "collapsed": false,
    "pycharm": {
     "name": "#%%\n"
    }
   }
  },
  {
   "cell_type": "code",
   "execution_count": null,
   "outputs": [],
   "source": [
    "print(ds.vocab[\"lol\"])\n",
    "print(ds.pretrained_embeddings[73048,:])"
   ],
   "metadata": {
    "collapsed": false,
    "pycharm": {
     "name": "#%%\n"
    }
   }
  },
  {
   "cell_type": "code",
   "execution_count": 71,
   "metadata": {
    "pycharm": {
     "name": "#%%\n"
    },
    "scrolled": true,
    "id": "_0MQn69DPGgK",
    "executionInfo": {
     "status": "ok",
     "timestamp": 1666007963507,
     "user_tz": -120,
     "elapsed": 5561,
     "user": {
      "displayName": "Milán Kriston",
      "userId": "16872317853158322273"
     }
    }
   },
   "outputs": [],
   "source": [
    "print(ds.vocab[\"lol\"])\n",
    "print(ds.pretrained_embeddings[73048,:])"
   ]
  },
  {
   "cell_type": "code",
   "execution_count": null,
   "metadata": {
    "pycharm": {
     "name": "#%%\n"
    },
    "id": "2YVdiKG_PGgK",
    "outputId": "36b57bdb-af0d-4c6d-e08c-cb0dbfba26bb"
   },
   "outputs": [
    {
     "name": "stdout",
     "output_type": "stream",
     "text": [
      "[tensor([ 354,  242,   50,  563,   24,  476, 3171,    1,    9, 3949,  547,  308,\n",
      "        1711,   38,  235,  134]), tensor([ 730,  259,   10,   20,  360,  282,  238,   48, 1162, 1807,   20,   93,\n",
      "        5085, 5920, 1169,  193]), tensor([ 342,  961, 1916,   12, 4217,    2, 2809,    1,   88,  143,  369,    9,\n",
      "         257,  844, 1152,   72]), tensor([ 1097,  7246,  2165,  2582, 41133,   690,   631,    90,   357,   254,\n",
      "         1267,   269,   196,    18,     8,   237]), tensor([    2,   233,    48,   432,    21,    21,   531,     1, 14221, 11919,\n",
      "         2274,     4,   224,  2123,    19,   358]), tensor([   656,      3,    877,    513,   1776,   5996,     10,     89,    106,\n",
      "        172910,     75,    162,   1929,  13442,   1036,      1]), tensor([ 741, 5529, 3950, 1220, 1795,   87, 1438,  220,  121, 4320,   52,    4,\n",
      "         144,  103,  284,   18]), tensor([5395,    3,  232,  432,  416, 2817, 1655, 4439, 2074,   14,  209,  108,\n",
      "         140,  460,    4, 1393]), tensor([   69,    73,   236,  3986,  1134,    99,   856, 11109,  2922,   203,\n",
      "          389,  1269,   940,   119,    23,   102]), tensor([   2,  355,  478,   40,   15,  194,    2,  457,  274, 2000,   24,  213,\n",
      "          15,  207,   12, 1673]), tensor([ 381,  895,   12, 3431, 1042,   61,    1,   96, 1119, 3352,   11,   71,\n",
      "         131,  453,   83,  621]), tensor([    9,    18,     2,    12,    28,  3814,  1636,   150,   102,     5,\n",
      "           25,   317, 10013,   243,    29,   196]), tensor([ 2331,    63,   133,   513,   746,   171,    11,    62,  1452, 33963,\n",
      "         1054,   435,  4238,  2338,  4750,  2955]), tensor([ 215, 5341,  101,  479,   41, 2399,   17,  171, 2591, 3532,  107,   19,\n",
      "        4373, 8559,   71,  329]), tensor([1479,   79,   76, 3885,  133,   50,   13,  102,   41, 3825,    7,   25,\n",
      "        1327,   70,   38, 4065]), tensor([    8,   347,  2603,    36,   719,    65,     1,   473,     2,  5379,\n",
      "           33,    33,    38,   193,   327, 15502]), tensor([1331,    3, 3019,  158, 2619,   58,   40,   56,  158, 3532, 2876,  242,\n",
      "          87,  190,   47, 1244]), tensor([  625,    45,  2273,   563, 10734,    13,   963,    92,  3625,   879,\n",
      "         1675,   210,   422,   971,    14,     1]), tensor([ 142,   13,   97,   12,  623,   67,  329, 1343,  842,    6,   33,   60,\n",
      "          41, 1099,   83,  199]), tensor([   120,  19805,     21,     31,    208,     20,   1298,    330,    630,\n",
      "          1335,      7,    855,      3,      7, 141509,     66]), tensor([ 838, 7636,  568,    5, 1674,   18,  143,  406,    7, 2517,   25,   93,\n",
      "           4, 2062,  545,   17]), tensor([ 1253,    13,   206,   223,  2389,   215,   235,   416, 16216,   185,\n",
      "           25,   612,  1114,    20,   286,   243]), tensor([3010,  713,  133, 5171, 1288,    3,  919,  334,   16, 2892,  139,  308,\n",
      "          93,    7,   27,  986]), tensor([1015,    3,    4,   28, 1795,  415, 1813,  660,   12,  140,  341,  169,\n",
      "           1,  179,   71,   23]), tensor([ 1331,   478,   260,   138,   147,    74,    45,   416, 13984,   644,\n",
      "          194,   800,  1617,    24,    38,  2565]), tensor([  458, 10067,   406, 19222,     1,    40,   826,  1309,   573,  6769,\n",
      "           99,   625,     1,   453,     4,    17]), tensor([12172,   318,    30,   982,   623,    37,   116,    48,  1550,  2346,\n",
      "            5,   315,  7697,   419,  7751,    34]), tensor([  59,  227,  104,   81,   45,   82,  907,    1,  827,  185,   48,  219,\n",
      "        4316,  557,  287,  914]), tensor([3272,   62, 4157, 8820,   13,  286,  251, 7157,  736, 3532,  931,    8,\n",
      "          23, 5610,   47,   10]), tensor([  220,   322,   195, 42550,   327,   245,     5,   845,  2573,   561,\n",
      "         1147,  9564,    64,  1766,    14,    37]), tensor([ 214,   46,    2,  129,  339,  292, 1833,   59,   14,  579,  284,   33,\n",
      "          11, 2736,    1,   22]), tensor([  1172,    376,    792,   1118, 102880,    155,    907,     48,     62,\n",
      "           522,  10151,    321,    183,   1115,     14,    117]), tensor([ 195,    1,  101,   63, 2379, 4734,  564,  891,  573, 1916,  116,    5,\n",
      "         268,  406,   52,   46]), tensor([   68,    56,    38,   339,   307, 14579,     3,    21,    98,  1960,\n",
      "          593,   954,     8,  1719, 54717,    10]), tensor([ 371,   79,   31,  425, 2899,   12,  242,  553,   92, 5002,   25,    3,\n",
      "        1224, 3132,   68,  156]), tensor([ 872,  246, 2048, 7736,    1,   13,  590,  240,   94,  579,   47, 2801,\n",
      "          71,  272,    8,  199]), tensor([2792,  292, 2490,  296, 7916,  202,  295,  438,  102,  246, 1214,   39,\n",
      "          10,   28, 5457,  101]), tensor([ 340, 1140,   13,   12,   51,    9,  124,  105,   16,   31,  394,   33,\n",
      "         367,    1, 1183,  621]), tensor([1440, 1528,   14,    1,   69,  425, 6197,  121,   57, 3319, 1000,  275,\n",
      "         156, 7182,  203, 2156]), tensor([ 530,  468,    2, 1490,  337,  512,  801,  136,  196,   38,   18, 2287,\n",
      "         359, 9359,   33, 1799]), tensor([ 4237,  3152,    64,    87,    15,    20,   392,  2751, 81577,   409,\n",
      "          120,  7903,     2,    20,   965,   895]), tensor([2040,   54,  454, 3637,   21,  417, 1697,  380,   68, 5850,  111,   33,\n",
      "          65,   28,    7,   27]), tensor([  348,   634,     6,    23, 12302,    35,   126,    95,   279,  4367,\n",
      "          222,     6,   345,    17,    12,   826]), tensor([2792,  147,  101,    4,  994,  698, 2379, 1781,  736, 3081, 2977,  131,\n",
      "          35,  238,   29,  155]), tensor([ 1476,    47,    14,    22,    61,    27,    15,  3456,  2573,  1892,\n",
      "          323,     5,   219, 81230,    54,     8]), tensor([ 258,  142, 2554, 1115, 3709,   13,  432,  218,   85,  594, 1902,   83,\n",
      "         541,  924,  523, 2473]), tensor([ 180,    7, 2649,   16, 1553,   32,   81,   28,   49,   38,   25,   16,\n",
      "         359,   44,  147,  171]), tensor([1413,    4, 9933,   18,  194,   17, 2379, 2147,   24,   62,  377,   43,\n",
      "        1218,  128, 2147, 1096]), tensor([ 842,  312, 2498,  298,   29,   23,   35,  519, 1525, 5496, 1537,  768,\n",
      "          53, 2995,   29,  274]), tensor([ 5125,    54,  2067,    73,   590,   559,    19,    59,    22,  1589,\n",
      "           34,   171,    18,  4122, 21612,   246]), tensor([5735,  187, 5108,    3,   22,  103,   37, 1142, 4852, 1025,  236, 1761,\n",
      "          10,   41,  124,  276]), tensor([   64,   611,  1363,   283,  1558,  1814,   245,    95,   700, 14492,\n",
      "         1144,   326,  6415,     5,    65,   239]), tensor([ 778,  104,  366,   87,  309, 1675, 4232,   16,   12,   62,  128, 1169,\n",
      "         216, 1623,  174,  159]), tensor([ 488,   39,   62, 3637,   29,   37,  275, 3559, 4852,  114, 1627,  275,\n",
      "         133, 9853,   29,  246]), tensor([   82,    12,  1043,     2,   175,   655,    83,    15,   180,  4594,\n",
      "           54,   167,     8, 11772,    71, 11165]), tensor([ 320,   44, 6470,  292,  104,  683, 1243,  307,  828, 1607,  257,   47,\n",
      "           1, 1167,  105, 2094]), tensor([  33,  201, 4088,   43,    2,  196,  551,  129, 2573,    3,  401,   10,\n",
      "         199,  221,   75,  121]), tensor([10198,    12,   109,    13,   310, 24889, 12983,    75,   139,    19,\n",
      "         2309,    25,   359,   525,    48,     2]), tensor([16874,  6949,   328,   618,   747,  5023, 78365,    13,   246,  1643,\n",
      "          105,   321,  1832,    65, 25575,    37]), tensor([ 199,  730,  274,   89,    1, 3936,  400,  918,   15,   64, 1366,  485,\n",
      "         115,  291,  145,   76]), tensor([ 333,  735, 2067,   34, 1018,  120, 2191,   49,  736,   84,  239,   16,\n",
      "         287,   73,  454,  275]), tensor([  50, 9036, 1043, 1453,   35, 4512,  478,  667,    9,   38, 2375,   19,\n",
      "         179,  294,  147,  246]), tensor([ 510,  353,  542,  331,   12,   53,   10,   13,  347,   19,   51,  259,\n",
      "          25,  525,    1, 6422]), tensor([3673,  112,  274, 1335,    1,   58,   69,  106,  736, 2283,  245,  941,\n",
      "           6, 8131,   40,  972]), tensor([ 109,  468,  131,   33, 1018,   33,  387,  319, 2573,  594,  716, 5292,\n",
      "        2550, 2036,   40,  563]), tensor([4186,   36,  109,  258,    3, 3612,   56,   14,   36,   18, 1006,  539,\n",
      "         207,   84,  360, 1033]), tensor([  790,    44,  2067,   161,   118,  7783,    13,   885,     9,   146,\n",
      "          833,   242,   446, 20208,  2240,  4618]), tensor([  39,  206,  274, 1595,  597,    9,  202,   23,   14,  123,  247, 8136,\n",
      "        1021,   17, 1883,   69]), tensor([2597,   12, 3088,   20,   36,    2,  932,  315, 5548,   12,   45,   46,\n",
      "          35,    3,   24,    7]), tensor([   46,    44,    62,    33,   409,   480,  3646,   316,    27,   319,\n",
      "           16,    22,     1, 24664,  1956,  1256]), tensor([   595,   2114,    396,     76,    747,      4,     18,      8, 221053,\n",
      "           331,    233,    611,    334,   2663,    105,     13]), tensor([ 624,   13,    3,   93,    3,  204,  323,  556,  366,  539,   93, 1607,\n",
      "         387, 2947,  387,    3]), tensor([ 1395,     5,  3064,   433,  3274,   178,   394,   175,     1,  5850,\n",
      "           25, 10026,  5654,  2226,   220,   159]), tensor([   639,     14,    274,    605,    284,     17,    163,      8,      4,\n",
      "           243,      1,   5850,     25,   4258, 141196,     68]), tensor([  515,    83,   648,   100,    47,  1450,  7703,   136, 17227,    13,\n",
      "           30, 26973,    46,  1080,     6,    12]), tensor([   540,   3579,    540,   3499,    244,   1035,     58,   1268,    328,\n",
      "             9,    137,    346,   6760,   9043, 202994,     28]), tensor([ 473,   64,   49, 7718,   58,   38,  633,    8, 4703,  157,   70,  271,\n",
      "        1032, 2309,   35,  401]), tensor([ 381,  271,  274, 9335,  308,   65,   91,   77,  470,  130,    6,    4,\n",
      "         949,   32,   38,   79]), tensor([ 733,  210,  446,  858,   17,  122,   27,    9,  131,  135,  237, 1204,\n",
      "         738, 3404,   52,   12]), tensor([   29,    11,   539, 30726,    83,    13,   342,   150,  8008,    13,\n",
      "            8,   211,    39,  1077,   228,    15]), tensor([  103,   200,    89, 24204,   175,   233,   470,    62,   226,  1790,\n",
      "           17,   388,    10,  2140,    22,    68]), tensor([  51,   12,  985, 4313,   64, 1049,    8,   13,  372,  207,  620,    3,\n",
      "         401, 1063,   38,   72]), tensor([  502,  1226,  4573, 18838,   150,   860,     1,   650,   100,   452,\n",
      "         1522,    48,   864,  4936,    52,    24]), tensor([  474,     2,   985,  4024,  1401,     2,   295,   280,  3030,    12,\n",
      "         7389,     1,  2550, 12791,    98,   167]), tensor([ 265,  533,    6, 4321,   84, 1496,    5,  419,  263,   16, 1684,   55,\n",
      "         207,  327,   42,  159]), tensor([  33, 1056,  274, 1330,  595,  654,  499,  759,   28, 1664,   40,  176,\n",
      "         446,   14,  214, 7363]), tensor([ 126,   50,    4,   72,  552,  756,   77,   90,   15,  104,  110, 1204,\n",
      "         401,   40, 1795,   89]), tensor([    2,     2,   669,   824,  1669,  1789,   342,    38,    85,   512,\n",
      "           72, 12766,  7821,   327,     6,    37]), tensor([  126,   533,   272,  1081,  1669,  1372,    66,   423,   191,     2,\n",
      "          890,  1917,     5,    16, 25835,    66]), tensor([  206,  9526,    21,     2, 10143,  1439,    17,   142,     2,    28,\n",
      "          662,   172,   174,   582,    30,   618]), tensor([   86,  4417,   544,    42,   913,   973,    46,    56,   931,   308,\n",
      "          621, 34383,    31,     9,     4,    12]), tensor([   99,  3119,  2498,    65,    51,   199, 10307,  1001,    90,     5,\n",
      "           12,    79,    11,   551,  7751,  1424]), tensor([ 319,    4, 2067, 2447,  337, 2541,  128,  115,   44,   12,  684,  791,\n",
      "          66, 1865,  103,   81]), tensor([ 650, 3141, 1657,  877,  595, 1511, 1774, 1407,    6, 1712,  703,  176,\n",
      "          46,   23,  460,  208]), tensor([  20,  283,   62,   23,  552,  194,  829,  530,  498,  372,  271, 2502,\n",
      "          11,  243,   85,  504]), tensor([  33, 1382, 2554,  113,  555,   13, 1374,    6, 2630,   16,  175,  786,\n",
      "          41,   26,  287,   91]), tensor([ 1922,    42, 12695,   141,   183,     9,  7827,   911,  1579,   123,\n",
      "         2173,    55,   118,  4304,    83,   976]), tensor([ 124,  800, 1363,  369,  394,   48,   27,  138,  892, 6647,   14, 7241,\n",
      "         697,  255,    9,   78]), tensor([2809,  200,  366,  348,  247,   76, 1909,  470,  864,  245,  699,  525,\n",
      "          12,  628,  102,   68]), tensor([  485,    39,  9933,  8872,   514,     3, 13141,   255,   303,   717,\n",
      "          278,   525,   168,    19,     4,    56]), tensor([   68,     1,    24,  2136,    14,  3524,   170,    19,   887,    44,\n",
      "        21482,   525,  5504,     9,   292,   481]), tensor([  155, 28344,    97,   668,     9,  2025,   983, 31627,     5,   409,\n",
      "         6666,  2319,     5,  2238, 28244,   416]), tensor([  1056,    354,     62,     15,     40,     12,    324, 134725,    114,\n",
      "             4,    202,      6,    196,    111,      5,    407]), tensor([5096,   36, 8676,  111,  681,  251,   25,  390,  317, 9495,   96,   90,\n",
      "        1242,  817,    9,  407]), tensor([   28,   185,   130,  1396,  1362,     2,    78,     3,   673,  1602,\n",
      "          173, 28940,   197,   220,    38,    45]), tensor([ 106,   12, 2456,    8,  551,  205,  177,  642,   11, 1255,   52,   12,\n",
      "         888,    7,  137,  583]), tensor([    1,   580,  2870,   121,    45,   139,   245,  1127,    15,   271,\n",
      "          593, 18560,   144,   322,    36,   491]), tensor([1383,  174,  215,   63,    2,  177,   13,  758,   33,    3,  250,   75,\n",
      "         162,  217,   80,  379]), tensor([  768,   942,   220,  2503,    21, 10117,    53,   692,     8,    53,\n",
      "         5694,    18,   189,   120, 22597,   112]), tensor([143594,     13,    386,   1396,     15,   1037,      2,    958,   1271,\n",
      "           803,   9924,   4400,      3,    877,    284,   4065]), tensor([203797,    149,    770,    709,      4,      2,   7485,    354,      5,\n",
      "           212,   3631,   6983,    412,     39,     29,   1353]), tensor([  753,    19,  4004,  1370,   214,  1392, 14828,   221,    41,    22,\n",
      "         3291,   443,   179,   242,     8,    64]), tensor([ 237,   50,  733,    8,  118,   12,  547,  288,    4, 1203,  514,  287,\n",
      "         372,   62,   13, 1353]), tensor([  69,   36, 3369,    1,  778,  743,   42, 2959,  887,  192, 3755,  554,\n",
      "          26,  555,   11,   14]), tensor([   11,    56,    28,   297,    27,   439,   117,   439,    19,  5399,\n",
      "          693,  2538,     5,     4,  1060, 31553]), tensor([  337,     5,    17,   222,   802,     2,    73,    76, 10339,  1602,\n",
      "          433,    35,   178,  2201,   507,  1184]), tensor([  78, 1135, 3434, 1350,  162,  753,   29,   11,  274,    8,  419,   27,\n",
      "           1,   14,  511, 1353]), tensor([  266,   119,  6701,   473,    29,  9831,     7,   205,   892,     1,\n",
      "          763,   287,    28,     1, 23352,    25]), tensor([ 448,  350, 4004, 1148,  247, 1442,   26,   21,  249,   35,  694,   49,\n",
      "         209,  591,  819,  687]), tensor([1031, 2632, 3753, 2780,   70,  243,   15,    2, 1416,   64,   97,   63,\n",
      "          21,   56,   64, 2760]), tensor([    3,  2365,     7,    92,   817,   285,     1, 39656,   899,  2164,\n",
      "          564,   717,    38,  1568,   382,   144]), tensor([    7,     9,   106,   578,    70,   766,   119,    15,   188,   211,\n",
      "          520,  4070,  1331, 28897,     8,     4]), tensor([   55,   141,   953, 11193,   664,  6906,   205,    19,   196,  7152,\n",
      "           11,   548,   486, 10862,   430,   302]), tensor([  28,  446,  953, 9162,  192,   67,   17,   53,   31, 2480, 1151,    4,\n",
      "         882, 8029,  271,   15]), tensor([ 2284,    27,   195,  4683, 31328,  7597,   230,    87,   204,  3569,\n",
      "          147,   557,   228,   793,     8,    28]), tensor([   55,  2365,   554,  3519, 10194, 19778,     5,   188,   109,  2377,\n",
      "          459,    31,   723,   442,    26,    15]), tensor([  24,  400,  124, 1376,   15, 7008,   32,   65,  188, 1395, 1635,   28,\n",
      "          57, 3952,    1, 1832]), tensor([ 6891,  3281,     9,   725,     1,  2143,  1844,    12,    18,   442,\n",
      "           88,   195,  1331, 28897,   390,   720]), tensor([ 1433,     3,   271,  4683,   480, 16147,   280,   525,    19,  1025,\n",
      "          121,   114,   158, 11068,  1814,   144]), tensor([   7,    1, 9326,   31,    4, 1196,  199, 1757,  317, 5133,  190,    3,\n",
      "         191, 6549,    8,    4]), tensor([ 1179,  3119,   210,  6188,  6777,   373,   333,  1714,  6979,    62,\n",
      "          198,   557,   680, 31745,   331,   302]), tensor([4484,  180,  922,   32,    8,  400,   46,   44,  138,  426,  523, 3025,\n",
      "           3, 1542,  559,  773]), tensor([  49,  200,  791,    4,  203, 3671,   28,    2,   43,   42, 1050, 5921,\n",
      "          11,  442, 1587,   28]), tensor([ 3297,  8316,    11, 12412,  2975,  2652,    46,    14,  1394,     4,\n",
      "         3007,  1802,   136,  2113,   888,   720]), tensor([4982, 1365,   55, 2000,  188,  370,    2,   15, 3581, 3530, 2279,  311,\n",
      "         314, 4234,   99,  776]), tensor([7358,    5, 1545,    1, 1599,   84,  178,  307,  322,  729,  220,  708,\n",
      "         314, 1568,   61,  649]), tensor([ 574,    3,  381,  396, 1347,  488, 1515,    6,  439,  853,  228,  243,\n",
      "         314, 6167,   49,  720]), tensor([  290,    12,   579,   673,    99,  1067,     2,  4148, 12156, 20479,\n",
      "          204,  2651,   314,   793,    12,    38]), tensor([ 830,  468, 4004,  264,   30, 1841, 2889,  304,    2,  327,  306,  272,\n",
      "         633,  442,  141,   54]), tensor([ 119,   40,  822, 6630,   20, 3243,  978,  185, 3388,   38,  378,  362,\n",
      "          12,  723,  964, 5548]), tensor([  64,   14,   24, 1381, 6078, 3936,   59,   26, 4985, 3899,   51,  272,\n",
      "         142,  291, 5748, 1895]), tensor([ 294,   10,   21, 4268,   38,  992,   34, 1474,  241, 1422,   81,   64,\n",
      "         122,  544,  117, 1004]), tensor([19720,   194,    93,   143,    53,  1329,   545,    26,    48,    44,\n",
      "           52,     9,   449,  1670,    67,   112]), tensor([33897,    12,  1462,  1049,  2851,  1329,    23,  3236,     4,     1,\n",
      "           51,    33,   202,  4516,    32,  1353]), tensor([  228,    44,  4004,  2678,   175, 38103,  4923,   304,    32,    65,\n",
      "           48,   292,     2,  2272,  6446,   524]), tensor([ 1303,    65,  1545,  2837,   239,    41,   240, 32891,  1015,    44,\n",
      "           69,  1759,   449,   818,   187,   434]), tensor([  228,    36,   274,   451,    30,    18,   387,  3416, 12231,   201,\n",
      "          138,    93,   202,  2830,    32,   523]), tensor([2575,  114, 5931,  398,   11,    4,   74,   13, 1740,   76,   73,   39,\n",
      "         351,    8,  137,   93]), tensor([  96,  114,  793,  229,  500,   32,  442, 2676, 4623,   84,    5,    1,\n",
      "          91,   35,   45,   14]), tensor([  228,     3,  2417,   498,  1932, 32198,   935,   281,    71,    57,\n",
      "           98,    75,   659,  3455,    27,    45]), tensor([ 954,   36,   55,   22,   21,  887,    5, 2693, 1888, 4379,   10,  903,\n",
      "         723, 1030,    2,    4]), tensor([5691,   12, 2992,  145,  175,   89,   22,   64,  158, 1476,    5,  211,\n",
      "         449,  119, 2281,  302]), tensor([ 4449,    44,   465,    33,    30,    29,    23, 12431,    17,   258,\n",
      "          290,  1599,   297,  2653,   332,   201]), tensor([ 228,   14, 1519,   67,   10,  568,    2,  273,  450,  100,   24,   48,\n",
      "         122,    2,   35, 3032]), tensor([ 10206,    204,    824,     35,     91,    122,     27,     19,   2145,\n",
      "        224614,    343,   2182,    106,    316,    113,  11254]), tensor([  875,  1250, 12595,   125,   174,   296,    41,  6761,   756,  6094,\n",
      "          290,   133,     1,  1269,   414,   436]), tensor([  721,   574, 12595,    75,  1490,    75,   213,    58,    15, 15668,\n",
      "           99,     8,    10,    10,     2,  4577]), tensor([  363,   348,  2198,   227,    12,   339,   936,   165,  1685, 26628,\n",
      "          642,   296,    57,    34,   211,  2784]), tensor([  232,    14,   195,     5,   210, 30705,   243,    60,    26,   294,\n",
      "          327,     9,    57,   127,   192,   474]), tensor([ 143, 2117,   57,   84,   11,  490,   18, 3243,  322, 2470,  593,  758,\n",
      "         656, 3163, 3175, 2793]), tensor([   19,   200,    44,     2,   462,   245,    15,   529,    48, 40449,\n",
      "           73,  5482,   116,  1681,    23,   159]), tensor([  98,  258,  173,    8,  227,  231,    4,  757,    1, 6337,  106,  161,\n",
      "          65, 1781,   57,    8]), tensor([  456, 30201,  1519,     4,    15,  4092,    31,   489,    13, 54262,\n",
      "            1,    88,    86,  1090,     5,    58]), tensor([   39,     9, 12595,   214,    13,   146,  8792,   383,   291,   628,\n",
      "           25, 12373,   420,  5972,   964,   911]), tensor([6310,  425, 2198,  227,  480, 1383,  529,  237,  137,  199,  186, 1118,\n",
      "        1460,  534,  742,  105]), tensor([  123,  2598,    38,   229,   210,    18,    23,   757,   457, 63830,\n",
      "          834,    46,    89,   350,    67,   121]), tensor([2694, 1144,  669,   71,   11,  392,  154, 1238,   93,    2,   11,  776,\n",
      "         108,  838,   13, 2768]), tensor([  227, 25717,  1957,   125,    13,  3569,   372,   505, 11224,     6,\n",
      "          782,   293,  1232,  1450,   964,  1020]), tensor([    64,     33,    261,    673,     29,   5026,     22,   2763,      4,\n",
      "             3,     12,     43,    117,   3880, 165505,    136]), tensor([  25,   18,  260,  631,  861,   45,  125,    8, 7557,  938, 1149,  656,\n",
      "        1186,    8,   23,  813]), tensor([  19,  636,   43,  247,  117,  123, 3205,    1,   31,  730,  163,  760,\n",
      "         703, 2539,   22,   27]), tensor([10737,     3, 58836,   349,   150, 15675,     4,   641,   140,    27,\n",
      "         1857,  2401,   932,  1257,   964,   491]), tensor([ 228,  442,   29, 2859,    8,  146, 1581,  581,   40,   23,    7, 1020,\n",
      "         852, 1962,   89,  379]), tensor([1491,   39,  173,   21,  112,   15,   71,  885,    4,  778,   25, 1239,\n",
      "         188,  327,   90,  485]), tensor([ 296,    1, 2693,   60, 3158,   63,  750,  981, 1411,  483,  102,  988,\n",
      "         134,  584,  151,   68]), tensor([1347,   20,  726,  267,  242,  808,  112,  538,  212, 1209,  166,  126,\n",
      "         108,   38, 1177,  102]), tensor([   5,   33, 7486,   19,   86,   19,  987,  953,  266,   27, 1857, 5800,\n",
      "         755,   52,   13,  436]), tensor([ 196, 2050, 3039,  939,  671,  114, 1580,  187,  262, 1364,   37, 3076,\n",
      "          36,   78,  964,   68]), tensor([  64,  146,   41,  753,  466,  782,    2,  778, 1098,  938,  386,   16,\n",
      "         443,   33,  141,    1]), tensor([ 207,   92,   93, 3785,   73, 2344,   13,  521, 2145,   43,  268,   19,\n",
      "         182,   25, 6759,  110]), tensor([ 155,   21,  507,   19,   29,  757,   55,  169,  428,  434,   82, 2695,\n",
      "         317,  957, 3879,   68]), tensor([1404,   39, 3266,   56,  128,   28, 1580,  612,   86,    8,   15, 2695,\n",
      "          18,   34,   13,  275]), tensor([ 579,  103, 2525,  399,   26,  683,   17, 1796,  585,    1,   40,   39,\n",
      "         389, 3209,  964,  136]), tensor([  23,   60,  439,  459,  420,   41,   91, 4879,    1,  128,   54,    1,\n",
      "          13, 1577, 2509, 2496]), tensor([  510,   210, 28872,    15,    33,   247,   366,   587,    64,   488,\n",
      "           99,  4025,   576,     7,   722,    68]), tensor([  200,    31, 19699,     1, 12610,   272,    13,   126,   586,   130,\n",
      "           83,  4025,    57,    41,  1066,   275]), tensor([ 109,   11,   30, 2290, 2723,  430,  535, 4192, 3725,  369,  414, 4159,\n",
      "          30,  663,  276,  136]), tensor([ 285,  258, 2636,  106,   20,   45,  552,  435,   92,  488,  102,  291,\n",
      "         508,   33, 2509,   68]), tensor([  962, 17973,    23,   316,  2108,   782,   170,  4108,    26,     7,\n",
      "           73,  1258,  1877,   284,   722,   288]), tensor([  716,    61,    14, 25794,     6,  2533,   509,   831,     2,   938,\n",
      "         1857,  2695,   665,     1,  2361,  1756]), tensor([1580,   27,  168,  515, 1427,  113,  226, 2310,  515, 1090, 1087, 7502,\n",
      "        1118,   10,   48, 9841]), tensor([1421, 2561,   33, 3701,   50,   96, 1754,   28, 1629,  407, 4497, 6093,\n",
      "        2677, 1158, 1089,   20]), tensor([ 617,  188, 2636, 5473,  101,  456,   22,   12,   86,   24,  428, 4705,\n",
      "         165, 1320,   35, 3416]), tensor([2655,  171,   98,  111,   89,  803, 1869,   16, 6136,  454, 1857, 6093,\n",
      "         508, 2513,   45,   20]), tensor([ 3803,   102,    30,  1637,    55,    23,   524,   204, 56127,   849,\n",
      "          218,  1259,   395,    25,   192,  6680]), tensor([ 689,  364,   20,  123, 1862,  935,   28,   36, 1330,  434,  136,  369,\n",
      "         548,   22, 4277, 3950]), tensor([  343,   573,    39,  1830,    62,    22,   140,    16,  2820,    43,\n",
      "          254, 11876,  1029,  2597,    13,    49]), tensor([   7,  351, 4163,  386,   37,  118,    4,  826, 1423,  434, 1458,   71,\n",
      "        3157,  142,  964, 1666]), tensor([ 830,  258,  109,   15,  551,  212,  189,  104,  680,   34,   38, 4025,\n",
      "         115, 1502,    3,  239]), tensor([   11, 84584,    23,    33,  1636,   213,  1249,   150, 14376,     3,\n",
      "          787,  2695,    30,    34,    14,    20]), tensor([  47,  258,  315, 1159,   67, 3123,    5,   36,  243,  133,  567, 6093,\n",
      "        4889,  374,   45, 8071]), tensor([  3598, 117030,    117,      6,    144,      9,    225,    274,   1576,\n",
      "             1,     59,   2139,    662,     10,     36,     50]), tensor([   128,    425,    426,    231,    383,    460,   1754,    813,   2129,\n",
      "          5983,   4439,    356, 224711,   1158,   3594,    411]), tensor([   488,    780,     20,   3615,     31,      5,   2891,   2595,     40,\n",
      "            12,   2165,    364, 229103,      8,    132,    312]), tensor([ 735, 1228, 3899, 8105,  114,    2, 1754,  274,  538,   45,  182,  408,\n",
      "         900,   47,  817, 1186]), tensor([6770, 8769, 7149,  460,  855, 4294,  809, 8425,  526,  400,  420,  419,\n",
      "         511,  358,    4,  686]), tensor([  395,   137, 11776,  4710,   147,  3577,  1012,  1022,    29,  2114,\n",
      "          441,    32,  1707,  1607,   780,  8396]), tensor([343,  96,  69, 221,  52, 152, 890, 217, 247,  80, 237, 642, 459, 593,\n",
      "         23,  78]), tensor([8024, 6786, 2873,  913, 7990, 1926,   53, 3064,   33,    6,  969,  807,\n",
      "           6,   72,  513, 8396]), tensor([2714,  457,  120, 4710, 9419, 6908,  327, 1343,  526, 1458,   43,  245,\n",
      "         459, 4262,   13,   78]), tensor([  39, 2764, 6289, 6634,    2,  232, 1754,  447, 1361,   45,   36,   92,\n",
      "        2580,   34,   63,  242]), tensor([  82,  258, 5637, 3239,   59, 2426,   41, 2991,  279, 1090,  122, 1436,\n",
      "        1483,    2,   88,    5]), tensor([14565, 39852,  1695,   442,   236,   264,   111,   551,  5241,  5238,\n",
      "         1255,  1130,   110,    97,   445,    44]), tensor([ 691, 3519,  634, 5237,  538,   48,   57,  204, 1576,   45,  110, 2321,\n",
      "         511,   21,  868,  354]), tensor([    70,    258,   4455,     26,   2091,      1, 141856,     89,      9,\n",
      "            32,   1624,     92,     28,     19,   9179,    663]), tensor([ 118, 3738, 1129,  129, 1082, 1410,  229,  981, 2813,  342,   85,  306,\n",
      "         503,   34,    9,   17]), tensor([ 209,   23,    9,   20, 1640, 7892,  979,   39, 1330,   20,   16,   42,\n",
      "        3926,  709,   10,  506]), tensor([3404, 1738,    9,   15,  817, 1487,  442, 1679,  247,    9,    8,  807,\n",
      "        2632,  934, 9179,   80]), tensor([ 166,  672,  216,   96,  527,   23, 7803,  474,  235,  425,   33, 1923,\n",
      "          72,  477,   47,   71]), tensor([    7,     2,     9,   469,  1017,   219,  6005, 28169,    71,     5,\n",
      "           16,  1436,  7908,   522,    90,   267]), tensor([  13,  140, 2170, 6795,    8,  270, 3504,   88, 1256,  581,    3, 3690,\n",
      "         208,  378,   14,  278]), tensor([ 2146,   730,   137,     2,   471,    95, 24094,  1922, 19160,    56,\n",
      "          394,    25,  3727,   775,    16,   440]), tensor([  3598,    723,     19,   2080,    173,      4,   1158, 101646,    406,\n",
      "             1,    449,   1583,     74,    799,    722,   9455]), tensor([ 735,  994,  148,  432,   74, 1079,   37,   99,  505,  220,  962, 4334,\n",
      "         852,    4,   10,  357]), tensor([ 343,  905, 1517,   10, 1454,  198, 5204,   15,  612,  202,    4, 4447,\n",
      "          68,  149,   82,  440]), tensor([   38,   141,     4,    83,    12,  7482,   202,  1056,  1972,     3,\n",
      "          342,     5,  2084,   111, 10879,  1879]), tensor([ 354,  446,  211, 7956,    6,  168, 1780,   47, 6112,   56,   16,  113,\n",
      "         321,   51,    9, 1053]), tensor([1282,   36,  124,   54,   12, 1859,  494,   39,  816,    6, 2207,    5,\n",
      "         852,  336,   14,  617]), tensor([ 2146,  1669,    71, 25765,  2933,  1807,  3333,   639,     7,   783,\n",
      "           58,   543,  1889,   149,    45,  1834]), tensor([  449,  2215,   148,  1042,     6,  1227, 10750,   149,    97,   220,\n",
      "         3578,   599, 16771,   915,  3289,    43]), tensor([  337,    27,  4594,  6212,    61,   287, 10708,    47,     8,  2814,\n",
      "          110,  1430,  6076,  1674, 11011,    65]), tensor([ 2397,  2643,  2262,    12,   384,    61,    31,    23,     4,   478,\n",
      "          244, 77507,   394,   752,    27,   499]), tensor([1045,   50,   67, 2282, 1169,   13, 2336,   25,  342,  383, 1147,    7,\n",
      "        2058,  336,  267,   18]), tensor([  689,  1142,  1108,  1368,  2403, 77827,    72,     9,     3,     3,\n",
      "           62,    37,   209,   319,  4695,    19]), tensor([ 436,  440, 3075, 1007,   12, 1180,   72,   98,    4,  173,  478, 8269,\n",
      "         464, 7426,  120,   83]), tensor([  110,   288,   146,  6099,  2432,   188, 30776,    19,   449,    18,\n",
      "            3,   517,    20,   130,   369,    85]), tensor([   29,   208, 19043,    74,  1004,   103,    72,  2989,  7392,   938,\n",
      "           89,   185,    85,  1047,   259,   102]), tensor([ 474, 3078,  364, 1568, 2914,  979,  485,   27, 2614,   11,    4,   21,\n",
      "          37,   46,    6,    4]), tensor([3256,  481, 5880, 1615, 1169,  989,   10,  330,    4,   18,  729, 2483,\n",
      "          93,  477, 7173,   85]), tensor([   70,  7973, 32195,    51,    70,   162,   182,   140,    40,    79,\n",
      "          779, 13198,   361,   752,  5250,   171]), tensor([5147,  597,  364, 1368,   13,  296,  436, 4609,  170, 1346,   49, 7534,\n",
      "          30,  336,  132,   83]), tensor([ 120, 4146, 1589,  535,  119,   41,  273,   24,   73,  674,   49, 1094,\n",
      "         852,    4,   14,   85]), tensor([ 4715,    17,  1025, 25765,   271,     2,    10,  3266, 12558,  1658,\n",
      "          138,  7534,  4105,    10,  4695,   102]), tensor([  868,  1119, 13303,   937,  6040,   100,  1189,  1101,  6433,   404,\n",
      "            5,   541,   588,    10,    16,     4]), tensor([1489,   75,  243, 1177,    2,    1, 3428, 1325,  133,  833,   58,    1,\n",
      "        1192,    5, 1441, 5174]), tensor([  178,  9648,   426,   522,    95,    71,   107,   384,   714,   632,\n",
      "           21, 23525,  1906,   105,   317,   171]), tensor([ 4539,    37, 24617,  2187,   110,  1143,   125,  1436,   745,   462,\n",
      "          165,  3069,   207,   121,   427,   477]), tensor([  462,   655,  1356,   919,    22,     9,    12,  2673,    29,   354,\n",
      "           17, 10283,   161,   990,    93,    56]), tensor([   70,  4799,    19,   563,   254,   425,   219, 11355,   138,   174,\n",
      "           15,  6836,     6,    50,   677,   735]), tensor([2914,   10, 1001,  335,   61,    5,  176,  106,  167,  195,   47, 6229,\n",
      "         459,   81,   37,  811]), tensor([ 9235,    82, 10236,    14,    26,  2647,    15,    21,    26,  3408,\n",
      "            4,   170,   117,  2384,    27,   972]), tensor([  2149,    280,  10957,     21,      3,    292,      6,   1172,      4,\n",
      "           293,   1114, 179423,    494,    990,     93,   1390]), tensor([ 121,  141, 1108, 1391,   48,   33,   70,   10, 1229,  143,  342,  314,\n",
      "         647, 1048, 6592,  969]), tensor([7812,  397,  146,  388,  254, 1510,  103, 1208,  199,  404, 4450, 7534,\n",
      "        3042,   16, 9646,  382]), tensor([  751,   641,    31,    57,   275,   774,   200,  1362,  1829,   303,\n",
      "            7, 27106,   237, 11117,    82,    32]), tensor([   70,    22,    19,    11, 96585,   962,   236,     2,  1768,  1346,\n",
      "           66,   265,  1323,  3445,   722,    11]), tensor([4841,   32,  133,   83,  354,  103,   66,  183, 7376,  674,  962,   50,\n",
      "         230, 1344,    6,  122]), tensor([   90,  1854,   403,  7956,    98,   118,   183,   192,  1892,     3,\n",
      "          145,    39,  1012,  1068, 10879,   293]), tensor([ 9735,  1142,  2408,   199,    24,    22,   904, 18583,  6415,  1115,\n",
      "           86,     1,     1,  1534,    67,  5094]), tensor([ 3825,   126,    15,  3058,   584,  3475, 11187,  2525,    29,   124,\n",
      "          284,    22,    32,    21,    88,  7895]), tensor([1058, 2935, 3165,  574,   61, 1056, 2313,   23, 1711,  174,  104, 3835,\n",
      "         251,  316,  445, 2496]), tensor([2074, 1027, 1085,  522, 2450, 3893,  959,    6,  555,  674,    8,  517,\n",
      "         141,   13,  445,  155]), tensor([  726,   106,   829,   191,    11,  3586,   153,   233,   137,   123,\n",
      "            1,   888,   263,   291,   964, 18506]), tensor([    4,     1,     6,  1588,   254,  4100,    24,    14,    77, 93202,\n",
      "           30,  1447,   154,   576,   445, 26251]), tensor([2471,  671,  267,  166,  341, 4973, 4525,   43, 1997,  113,  931,   17,\n",
      "          32,  316,   10,  358]), tensor([ 2146, 17482,   280,     2,    14,     9,   200,  4416,    54,   424,\n",
      "           91,  2771,   598,    13,  2982,   374]), tensor([  168,  2702,    50,    14,    10,    93,   292, 14181,  2761,    13,\n",
      "         1296,    87,     1,   291,   274,    45]), tensor([ 1498,   827,   171,   520,   165,    24,   987,   194,   399,    32,\n",
      "            2,   114, 29585,  1915,   140,   347]), tensor([1348, 4729,  102, 1463,   35, 1894,  565,    1,   23,  509, 6150,    6,\n",
      "           7,   85,  317,   28]), tensor([  305,     7,   594, 96100,    37,     4,   105,     8,    12,  1218,\n",
      "          101,  1030,   347,     4,   780,   101]), tensor([ 1469,    14,   171,   200,  2075,  3309, 22002,  5485,  4905,   459,\n",
      "            1,  1723,     7, 11497,    38,    87]), tensor([16300,    33,     4,   211,    10,    78,    89,  2775,   495,  1049,\n",
      "          478, 11663,     1,  1105,  1930,     5]), tensor([ 5796,    21,    62,   200,    14, 17221,    10,  4381,  7240,  1356,\n",
      "          122,  1500,    49,   605,    14,   101]), tensor([  462,   396,    87,   574,    10,   515,   349,   110, 10717,    13,\n",
      "           90,    74,    18,    27,  1612,   348]), tensor([  70, 1334, 1654,  200,  165, 1314,    8,  118,  289,  650,   15, 1728,\n",
      "        1982,  261,   70, 2427]), tensor([ 9235,   197,   102,   368,    16, 22995,     1,     2,   215,    23,\n",
      "           15,  3835,    87,   336,   241,  2892]), tensor([   14,    32, 19043,  8132,     8,  1001,  5321,   107,   401,     4,\n",
      "            1, 14457,    52,    62,   513,  5459]), tensor([2955,  123,   62,   38, 3838, 1657,   70,  949,   77,  871,  204, 1018,\n",
      "          48,  993,  132,   67]), tensor([  10,  692,    4,   32,   24,  189,  103, 1049,  398,  200, 8269, 2095,\n",
      "           1,   98, 1930,  168]), tensor([   28,   185, 10309,   241,    29,    53,    11,  3934,  1254,  1218,\n",
      "          517,  2167,   275,  1927,    14,  2432]), tensor([61475,  6226,    20,   401,  1651,     4,    74, 13673,  2015,   459,\n",
      "         6772,  2523,   176,   993,  1276,    32]), tensor([    5,   103, 19043,  2677,   150,   105,   714,    51,    68,    64,\n",
      "         4592, 14457,   378,   993,     2,    71]), tensor([2146,  692,  474,   24,  272, 1751,  329,   52, 1329,  403, 3931, 8393,\n",
      "         172,  535,  194, 1387]), tensor([3825, 1636,  273,  292,  606,  103,   73, 1460,  203,  179,    1, 6836,\n",
      "          72,  138,  780,   18]), tensor([1920, 4148,  189, 2277,   37, 5839,   17,  741,   15, 2996,  709, 3079,\n",
      "           3,  327,  414,   76]), tensor([    13,     13,     11, 204951,     64,    836,   1122,      3,    458,\n",
      "           367,     48,    308,     40,     38,    197,      5]), tensor([  1552,    763,     62,  54660,   4490,     41,     43, 139711,    168,\n",
      "            74,   1309,    360,    631,   4849,   2103,   7129]), tensor([  23,    4,   74, 2393, 4151,   14, 1046,   75,    4,  399,  184, 3079,\n",
      "        6525,  183,  158,  479]), tensor([  89, 2046, 3409,   43,   44,    1,  279, 2154,  121,   35, 2754,  101,\n",
      "          48,  913, 1035, 7129]), tensor([ 9812,   114,    15,    76,   606, 22556,    34,   949,   566,   750,\n",
      "           13,   375,    46,    51,  5829,   162]), tensor([ 889,   83,    6,   66, 4868,  180,  581,   74,    2,   65, 1667, 3079,\n",
      "        1783,   34, 9093,   90]), tensor([  201,    29,  2153,   618,   497,   375, 10807,   231,    10,    13,\n",
      "         6224,  1355,   376,   108,  7421,   632]), tensor([ 614, 3310, 1822,  208,    5, 1563,  350,  128,  198,    5,  347, 2263,\n",
      "         249, 5493,  649,  856]), tensor([  443,  1263,   245,    17,    40,  1712,   281,   949,    22,  1600,\n",
      "         1851,   118, 34600,   236,   121,    24]), tensor([   60,    35,  5605,    39,   767, 18701,   119, 13408,   125,   300,\n",
      "         2835,    41,  7012,  2746,  3078,     9]), tensor([   9,  123,   74, 2634,    7,  194,  298,   65,   37,  591, 1047, 3060,\n",
      "        2431,  470,  754,  124]), tensor([   24,  2156,    11,   854,  1255,  1196,    22,  2507,   187,    83,\n",
      "          326,   765,  3375, 14090,   873,  4556]), tensor([  641,  1799,   347,  3937,  1230,  3557,   117,  1696,   199,   102,\n",
      "           80,  1883,   108,  7642, 12568,   622]), tensor([  453,    52,  5067,   728,   247, 16536,   176,   636,     6,   397,\n",
      "          842,  1173,    92,  1054,  1665,    64]), tensor([   173,   3908,  20692,   3937, 243699,   6821,   8301,     75,   5509,\n",
      "            83,    641,    209,    142,   3748,     86,    575]), tensor([10723, 20156,    11,  1032,     2,  3874,   103, 70670,    43,     8,\n",
      "         1181,   308,   356, 37275,  1190,     7]), tensor([  147,   200,   689,  8404,   666,     1,    11,  3403,   121,   317,\n",
      "         2524,   360,   148,     2,    11, 36146]), tensor([  13,  162,  202,  854,   22,    2,  452,  165, 4759, 9107,   20,    2,\n",
      "        2840,  798,  633, 1330]), tensor([13453,    29,  1198,    87,   342,    58,   206,  1696, 13177,   603,\n",
      "            1, 19630,   167,  6582,   633,    51]), tensor([  549,    20,  5067,  5308,  4049,  1073,  2293,   165,   249,   449,\n",
      "           10, 89230,   576,   238,   888,   189]), tensor([  10,   54,   13,  879,  247,  612,  136, 1228,   49,  496,   74,   58,\n",
      "         327, 5523,   36,   54]), tensor([3992, 1109,    9,  854, 1043, 2833,  218, 1681,  279,   11,  782,  132,\n",
      "          38,   14,   37,   93]), tensor([  22,   18,  349, 5308,  243,   24,  172,  778,    6,  157,    6,  308,\n",
      "        1760, 1069,  655,  124]), tensor([ 230,   28,    8, 3937,  404, 6006,   77,  459,   73,   35,  261, 2139,\n",
      "           4,   51,  208,  277]), tensor([ 248,  518,  202, 6611, 1043,  496,  310, 9368,  532,    7,   40,  308,\n",
      "           7,  259,  283,  358]), tensor([  495,   128,  5067,  5089,   247,  3729,   581,   442,   682,    28,\n",
      "            3,  7534,   109,   865, 13044,  4771]), tensor([  164,  1584,  8280,   854,    70,     4,   144,    89,    36,   676,\n",
      "           17, 27106,   369,   738,  1118,    30]), tensor([ 284,  881,  606, 6611,  592,  116,    8,  963,  532,  846, 1511,   19,\n",
      "         549, 4049,   18,   90]), tensor([  52, 1267, 2911, 3937, 2122,    7, 1097,  128,  454,  370,   48, 2602,\n",
      "        4353,  741,   31,   17]), tensor([15684,    52,     2,   854,  3897,  1531,  4049,   529,   226,    11,\n",
      "            1,   328,   629,  3929,   528,    54]), tensor([  314,    14,    37,  2915,   621,   620, 17872,  2012,  2442,     4,\n",
      "           13,   718,    52,   534,   100,   316]), tensor([   20,    20,  1580, 36008,  2122,    10,  5162,   949,   631,   212,\n",
      "          109,  1823,   576,     4,   559,    90]), tensor([ 596,  550, 1153,   66,  890, 1195,  804,    3,   49,  200,   80, 7534,\n",
      "         136,  351,   39,    6]), tensor([  248,   206,    78,   941,  1776,   224,    37,   157,    57,   645,\n",
      "           65, 99412,   218,   685,    15,   352]), tensor([ 896, 5068,   91, 8710,  247, 2416,  144,  220,   20, 7809, 3143, 4705,\n",
      "         910,  351,   18,  316]), tensor([2249,  326,   34, 2617, 7502, 2235, 6844,  362,   56,   84,  192,    2,\n",
      "        2224,   34,  148,  243]), tensor([  164,  1085,    43,   132,  3756,   797,    77,  1176,   378,   246,\n",
      "        14483,  7032,   110,    34,  3373,  1330]), tensor([  577,    10,   210, 32260,   189,   918,  3561,     4,  2201,  3774,\n",
      "           58,   176,    77,   351,  2238,     1]), tensor([   59,   122,     4,   266,   683,    26,    72,   151,   202,    15,\n",
      "           63, 18800,   172,    89,  1490,   599]), tensor([ 279,   13,  360,  281, 6471,   18,  585,  778,  278, 1131, 3274,  590,\n",
      "         136, 2030,   44,  506]), tensor([   59,     5, 27715,   119,  3502,  5835,   730,   636,    77,   849,\n",
      "            2,   590,   218,    58,  1182,   350]), tensor([  168,    37, 12683,   527,   239, 64466,   214,  1681,   546,  1583,\n",
      "           15,    59,   398,    21,   437,  7367]), tensor([5184,  326,  199,  425,  454, 1312, 1057,  778,  464,  126,  156,  154,\n",
      "          22,  183, 1899,  166]), tensor([  20,   81,    7, 1654,  898,  248, 1898,  459,   21,   57,   88,   85,\n",
      "         772,    5,   49, 2908]), tensor([1107,   42,   33,  102, 1418,  153,    9,  816,   48,   13,  261, 2729,\n",
      "         539,   90,  136,  358]), tensor([ 275,   43,   63,  171,   93,  248, 1231,    7, 2828, 2910,  769, 1727,\n",
      "         104,  368,   77, 2908]), tensor([ 112,   20, 1266, 1009,  256,  152, 7666,  335,  113,  127,  154,  240,\n",
      "         108,  122, 5476, 3520]), tensor([ 3249,   635,    21,    12,   427, 32877,   182,   261,    21,  1797,\n",
      "          517,    77,   434,  4751,  1901,   440]), tensor([2572,  721,  144,  100,   20,    1,   41, 4242,  456,   21,  281,  218,\n",
      "         104,   39,   76, 2263]), tensor([4160,    2, 1210,  285,  293, 2039,  682,  329,   24,  262,  806,  784,\n",
      "         136,    1,  226,  777]), tensor([2998,   54,    5,  207, 1809, 1494,  801,  423,  102,  412, 1162, 3040,\n",
      "          82,   51,  511,  840]), tensor([  48,  191,    5,   11,  563, 3053,  730, 2020, 2393,    3,  138,  126,\n",
      "         218,  189,    1,  637]), tensor([3032, 1373,   23,   10,   20, 1502,  182,  816,  528,   33,  380,  735,\n",
      "          24,  798,  679,  358]), tensor([1876,  212,  204,   22, 1640, 1613,  360,   33,   56,   40, 7549, 1194,\n",
      "         873,  196,   23,  329]), tensor([4890,  521,  198,  853,  243,  221, 3964, 2265,    2,  512,    2,  176,\n",
      "         454, 4411,  392,   70]), tensor([ 162,   43,   16, 1349, 1166, 1121, 7374,   33,  675,    7,  410,   53,\n",
      "        6632, 3911, 6186,   57]), tensor([   90,     8,   204,   167,     6,  2735,   169,   179,  2074,   205,\n",
      "           85,   126,  1223, 11562,   182,   196]), tensor([1254,  212,  137,   26,   93, 3088,  182,   50,   21,    3,  201, 5936,\n",
      "        3303, 1736, 1790, 8447]), tensor([ 310, 2107,  274,   16,    6,   62,  555,   25,  116,  219, 1060,   49,\n",
      "           8,    8,  888, 1330]), tensor([ 111,  344,   51,  207,    3,  123,  360,   18,   10,  297,   13, 9094,\n",
      "           1, 3033,   47,  726]), tensor([  59,   23,   94,  106,  987, 1812,  833, 6591,  113,  219,  316,  126,\n",
      "         109,    4,  289,    6]), tensor([164, 917, 204,   1, 990, 480,  33,  15, 105, 297,  42, 463, 726,  39,\n",
      "          4, 617]), tensor([5697,  893,   82,   87,   66, 6403,   61,   24,  456,   25, 1139,    2,\n",
      "           6,  338, 2588,   90]), tensor([  59,  338,   13,  119,    5, 3706, 2653,  198,  107,  353,   13,   69,\n",
      "         310,   39, 3079,  617]), tensor([1331,    4,   78,   10,    2, 3711,    8,  232,   34, 1083,   63,   11,\n",
      "           9,    1,    7,  427]), tensor([ 1062,    24,    84,     9,    47,   922,   833,  1633,   279,  5439,\n",
      "           15,    72,  1135, 20917,  2588,  2372]), tensor([1508,  198,  684,  285,  173, 1790,  745,  443,  825,   87,   85,  730,\n",
      "           5, 2752, 3079, 3399]), tensor([ 248,  358,   46,    5,    4,   27,  659,   33,   25,  123,  222,  175,\n",
      "         101, 9427,   45,  340]), tensor([ 1830,  2122,    37,  3867,    21,  5198,   169,    90,    22,   109,\n",
      "           91,  1419,    77,  7464,    82, 11307]), tensor([ 577,   10,  411,  179,   32,  255,   24,  301, 2201, 4439,   99,  100,\n",
      "         172, 6170,  633,  159]), tensor([    66,     82,   1075,    372,     38,    992,     11,   5027,     52,\n",
      "           630,   1394,    188,    398, 103659,     14,   1097]), tensor([ 363,  238,   64,  411,  397,  372,  252, 1975,  186,   15,  284, 1285,\n",
      "         223, 1511,  824,   78]), tensor([ 612,  649,    5, 1517, 1045,  269,  203,  247,  272,   52,    5,  146,\n",
      "         252,  766, 2282,  570]), tensor([  112,     9,    12,  2662,    15,   895,   192,   469,     3, 24093,\n",
      "            4,    22,  2320, 11313,   888,   294]), tensor([  603,    54,   427,    39,     1,  1242,  1507,   595,    25,  9629,\n",
      "          165,     1,    21,    17,   934, 13389]), tensor([   596,     45,     93,      1,     12,     90,     77,    206,    151,\n",
      "         18441,     12, 183561,    800,      2,     98,  34349]), tensor([ 530,   15,   16, 1053, 1763,  199,  214,    7,  622,   25,   33,  254,\n",
      "        1233,   58,  107,   27]), tensor([  84,   77,  329, 1148,  174,  269, 1057,  103,  148, 2996,   23, 1871,\n",
      "          30, 1754,    5,  545]), tensor([ 278, 2106,  115,   10,  153, 4800,  104, 1043,    2, 7250,  242,   37,\n",
      "         234,    3,   10,  114]), tensor([    9,   120,    61,   545,    76,     4,  2536,   247, 14387,   626,\n",
      "          245,   424,    77,  1662,  1053,     4]), tensor([ 164,   15,  352, 4014,   23,  475,   19,   33, 5835,  307,   12,  184,\n",
      "          21, 1371, 5848,  230]), tensor([  84,  352,  678,   53,   11,   48,   69, 6407, 1469,    2,  242, 1871,\n",
      "        5205,   50, 1279, 3235]), tensor([ 506,    6,  279, 2727,   37,  168,  263,   14,  983,  107,   23,  338,\n",
      "          25,  745,  269, 2496]), tensor([   117,    112, 204155,   5670,    275,  14057,     47,     71,      6,\n",
      "            10,     18,      9,    672,    254,    165,   2040]), tensor([1365,   40, 2496,  128,   99,  201,  213, 2231,  112,  685,  104, 1812,\n",
      "         758,   93,   10,   36]), tensor([  263,   120,    94, 19898,    24,     9,   762,     7,     7,    12,\n",
      "            2,   420,  1339,    15,  2407,    30]), tensor([1194,   28,  371, 1927,   11,  401,  572, 1301,   21, 2071,    7,  765,\n",
      "         172,   61,  923,    1]), tensor([ 248,   53,  609, 1828,   12, 1365,  637,  115,   49,   14,  101,   62,\n",
      "         923,  288, 1160,  168]), tensor([ 278,    2,  206,   30,   22, 2238,   70,  426,  255,   33,  306,  348,\n",
      "        1253,    6,   47,  574]), tensor([1525,  469,   10,  205,   15, 7408,   65,  162, 4102,    2,   53,  185,\n",
      "          77,   15,  142,  276]), tensor([4743,  259,  316, 5476,  417, 3879,   39,   70,  632,   14,  399,  166,\n",
      "        1717,  909,  983, 2760]), tensor([ 737,  139,  311,   20,  160,  509,    1,   34, 2201,  417,   18,   23,\n",
      "        5685,   93,  119,    6]), tensor([  70, 2938,   16,   54,    4,  603,  308,  554,   38,   64, 1221,  623,\n",
      "           2,   23,   45,  102]), tensor([  117, 37459,    10, 25676,   870,    32,   378,     8,   644,   283,\n",
      "         3281,    32,   355,     1,    23,   293]), tensor([  15,  361, 2348,   10,    7,    1,    3,   33,  411,  297,    5,  651,\n",
      "         910,  215,  366,  217]), tensor([ 3554, 20724,   512, 16944,   216,   421,   109,   347,    49,    10,\n",
      "            1,   166,  2224,    29,   570,   547]), tensor([   76, 37459,    25,    53,     2,   239,   188,     6,   411,   390,\n",
      "          223,   564,    35,   452,  1129,   786]), tensor([  256,   665,   155,   826,  3428,   317,    50,  1681, 14710,   258,\n",
      "          110,   163,    34,    24,     3,   276]), tensor([  187, 35477,   937,   542,  1821,  1072,    24,  4242,   809, 35885,\n",
      "          296,     4,    37,   482,    75,    51]), tensor([  219, 37459,   151,    47,    31,   793,    11,   329,   143,   411,\n",
      "          632,   199,   169,   113,  3702,   189]), tensor([   67,  5947,   104,  2164, 14167,    64,    56,   636,    20,  6171,\n",
      "          134,   183,    77,    28,    12,   505]), tensor([ 1287, 14247,  1941,   323,     8,  7950,    50,   140,   825,  1207,\n",
      "         1069,   268,   775,  4648,   275,   547]), tensor([     2, 162899,      5,    830,      1,  11066,     52,    177,    155,\n",
      "           297,    632,     89,     37,     19,      8,   3486]), tensor([  10,  588,  104,   50,   22, 9953,    4,   14,  143,    3,   72,  400,\n",
      "         252, 2719,   79, 2047]), tensor([2683, 4392,  842,   36,   30, 4465,    2, 7399,   58,  240,  175,   13,\n",
      "          77,   19,   23,  152]), tensor([    2,  8066,  3074,  1063,    52,   421,    47,   138, 12445,    88,\n",
      "          664, 10275,   309,    47,  1068,   314]), tensor([   82,   182, 17177,  1389,     3,  2676,   957,    12,   433,  6217,\n",
      "          164,  5372,   935,    47,   290,  3405]), tensor([  23, 9639, 1316,  251,   31, 7754, 1474,   76,    2,   19,  175, 1906,\n",
      "         136,  208,   54,  848]), tensor([  242, 15197,     3,  1157,   189, 10250,     9,   581,   220,  3233,\n",
      "            8,  6804,   562,   649,   153, 28481]), tensor([    4,   703, 10356,   529,   555,  5586,   944,  1681,  2403,    30,\n",
      "          136,   830,   303,  4335,  1876,   275]), tensor([  656,   675,  3023,   141,    78, 68264,   528,   778,   421,     3,\n",
      "          175,  3016,  1380, 73792,    26,  4016]), tensor([    6,    31,  2178,  1063,   167, 11066,   159,   459,    43,  3588,\n",
      "            2,  7342,   214,   534,    23,   475]), tensor([ 112,  630, 3423,  131,    6, 9953,   12,  529,  589,  586,  172,  528,\n",
      "         184, 5155,  511,  364]), tensor([ 2182,   372,   147,  1896,    96,  4465,   981, 17447,    60,    93,\n",
      "          590,   159,  1084,   128,   130,  6873]), tensor([  332,  2938,   255,    54,   327,  4240,   232,   442,   529, 20538,\n",
      "            8,  1651,    77,   101,   135,   141]), tensor([   61,    94,   113,   331,   117, 11066,    36,    73,    60,   650,\n",
      "           77, 18900,   398,   250,   720,  1310]), tensor([ 221,   39, 2768,   71, 3036, 6804,  177, 1927,  104, 3532,  590, 1280,\n",
      "          30,   35,   24,   56]), tensor([   332,      1,     10,    553,     21,    215,    310,     48, 197450,\n",
      "            24,      2,    483,    397,     33,     57,    956]), tensor([  33,   68,  142,   10,  338,  908,  986, 1927, 6170, 1589,  218,  138,\n",
      "        1239,    1,   72, 9490]), tensor([   4, 1727,   38,  513,   65, 6988,    7,   47,   39,  759,  590,  294,\n",
      "         172, 5545,  159, 3224]), tensor([6325,  194,   10,   71,   14,   36,  444,    3, 3304, 1232,  664,  658,\n",
      "          47, 5416,   25,  302]), tensor([1150,  675,  142,    1,  104,    1, 5664,    7,  639, 4815,  176, 2393,\n",
      "           5,   20, 7810, 4016]), tensor([  94, 3131,  113,   53,   31, 1712,  356,   22,  520, 1923,  175,   85,\n",
      "        3764,  920,   18, 1809]), tensor([4079,   99, 2768, 1063, 1284,  490,  924,  778, 4006,  942, 2041, 2024,\n",
      "        1717,  978,   36, 4799]), tensor([8467,   21,   38,   12,   34,   85,   94,  180,  646,  644,  248,   86,\n",
      "          80,  112,   99,  728]), tensor([1107,  961,  295,  232,   96, 1712,  356,   10,  255,  128,  590,  527,\n",
      "          77,  128,    7, 1070]), tensor([ 458,  368,  572,    1,  643, 6836,   71,   39,    7,  488, 2041, 2648,\n",
      "        2394,   32,   40,  494]), tensor([   4,   33, 1284,   12,  677,  495,    1, 1482, 1416,   30,  240, 3069,\n",
      "        3804,   13,  572, 4799]), tensor([  354,   134,   284,    22,   338, 56608,  1541,   765,    20,    25,\n",
      "           63,  2695,  3002,   288,     8,   331]), tensor([  332,  8275,  1941,  1750,   379,     6,    92,     7,  6139,   128,\n",
      "            5,   102, 20423,   472,  3264,   314]), tensor([  15,    4,  267,    1,  465,  112, 1208,   13,  109,   45,   47,  107,\n",
      "        2637,    5,   12, 3405]), tensor([  28,    1,  357,  924,   78,  307, 6275,  179,  103,  250,    2,   28,\n",
      "        2051,    4,   73,   25]), tensor([ 1150,    68, 32982,  1750,   300,    46, 12718,  1007,    60,    45,\n",
      "          597,   102,  2051,   177,     5,  7171]), tensor([ 120, 1012, 2519, 1413,  887, 1844,   28,    9,   15,   38,  483,   15,\n",
      "        1505, 1204,   63,  189]), tensor([  45,  484,  151,  331,   52,   37,   75,  133, 1064,  250,  410,  329,\n",
      "         468, 1175, 1377, 5543]), tensor([2937,   82,  371,   44,   79,  194,   28,  976,   17,  315,  140,   93,\n",
      "          88, 3495, 1752,   32]), tensor([   384,   1272,     55,   1389,    284,     28,    320,    459,    857,\n",
      "            44,    654,    372,    636,    141,   5165, 178060]), tensor([ 1787,    40,   334,   343,    25,   645,  2133,   335,     6,   923,\n",
      "          167,     2, 23314,   482,    25,   117]), tensor([  229, 14562,   380,    27,     5,    53,   172,   325,  2451, 13281,\n",
      "            6,    25,  3645,    15,   511,  7384]), tensor([  56,  942,   18,  141,  915,  415,  136,   54,   13, 1211,    3,   85,\n",
      "        2051,  797,  100,  969]), tensor([  594,   288,   147,   109,   839,   104,  4426,   999,    62, 39159,\n",
      "            2,    19,  5327,   122,    25,   293]), tensor([ 162, 2358, 5872, 1063,   10,   90, 1979,   27,  546,  127, 4002,  311,\n",
      "          28,  725,    9, 2629]), tensor([   29,     5,   115,  1392,    22,   245,   982,     3,  1621,   677,\n",
      "          853, 10742,   135,    51,    13,    20]), tensor([ 387,  231,   40, 1460,   35,   65,  519,   97,    7,  585,   50,    3,\n",
      "        2733, 5294,   42,   25]), tensor([ 431,   34,  967,    3,   28,   13,  252,   21,    6,   16,  282,  151,\n",
      "           8,  465,  511, 2524]), tensor([1666,    7,  298,  173, 2493,   67,  448,    7,  857,  246, 2466, 7182,\n",
      "         331, 2459,  239, 1151]), tensor([  318,    31,   329,   235,    16,    75,   254,   636,  1438,   344,\n",
      "          100,  9359,   219, 48546,  1052,  1303]), tensor([1480,   31,  743, 3242,   73, 1163,   59,   53,  719,   16,  132,    3,\n",
      "         232, 3224,   81, 9137]), tensor([  114,   424,  3628,     2,   118,  2399,  1331,    39,   671,   169,\n",
      "          100,   124,     8,  1922, 42405,  1666]), tensor([   18,   123,    80,  7160,  2578,     4,   825,    35,     9,    16,\n",
      "         4471,   161,   291,  1836, 41655,   502]), tensor([  86, 2431,    1,    9,  212,  351,   93,  828,   12,  109,  100,  573,\n",
      "         964, 5374,  250, 1356]), tensor([  30, 2014,   83,   53,  466,   16, 1014,  459,   35,  503,   56,    3,\n",
      "         141, 4420,    3,  152]), tensor([ 592,   13,  133, 4088,    4,   37,  428,   16,  377,  128,  400,    4,\n",
      "         113,   10, 1389, 1081]), tensor([ 204,  187,  998,  433, 4950,   82,  853,   25,   19, 1037,  152, 1016,\n",
      "           5,  768,    8,    2]), tensor([   58,     9,    11, 31558,   137,    98,    26,  4242,  1594,  2003,\n",
      "           78,    31,   239,  3461,   250,  2978]), tensor([  676,    76,    88, 35351,    67,     7,    27,   329,    19,   842,\n",
      "          601,     5,   417,   547,     9,  7010]), tensor([   473,     12,   3759,    249,   8582,      4,   4426,    636,     69,\n",
      "           778,     56,    478,   1618, 141738,     63,    807]), tensor([ 360, 3935,   11, 2153, 1488, 1656,  613,   35,   85,  109, 9333,    4,\n",
      "        1952,  129,    8, 1399]), tensor([ 3863,   867,    45, 58058,  6306,  4143,   825,   173,    35,    78,\n",
      "          329,   439,    89,   231,   133,   479]), tensor([ 2298,     8,  3630, 27835,  1165,   165,   860, 15227,   275,    34,\n",
      "            1,   795,   689,  9629,    73,  7528]), tensor([ 6810,  3288,   428, 35820,  5718,    12,   172,   329,    19,  4416,\n",
      "          543,    31,  1708, 55518,   319,   687]), tensor([ 360, 2245,   34,   21,  212,   12,  289,  534, 1594,  128,  106,    5,\n",
      "        4868,  545,   38,  969]), tensor([ 1706,    14, 13392,   183,   956,    13,   136,   701,   244,   488,\n",
      "            1,  1016,    26,  1143,   133,    56]), tensor([  429,    45,   616,     9,   466,    67,   212,   158,    14,   128,\n",
      "          209,  1867,  8474, 11767,    43,   790]), tensor([3689,  173, 3085,   43, 1736,  120, 1979,  182,   35,  290,   38, 4704,\n",
      "         171, 7886,  179, 5435]), tensor([  510,  1909,  2852, 31558,     1,     8,  2567,  1319,    19,   343,\n",
      "          106,     3,   582,    13,     7,   202]), tensor([ 348,   87,  571, 1749,   55, 1344,  559,  562, 1594, 2550,    1,   27,\n",
      "           9,   33,   44, 3023]), tensor([   457,    276,   1194,    224, 183320,     59,    136,     57,    686,\n",
      "           540,    179,    524,    341,    541,     34,   2177]), tensor([7599, 1065,  428, 1367, 1418,  518, 2567,  209,  387,  759, 4888,  181,\n",
      "          72,   33,  236,  230]), tensor([ 535, 1361,   88, 1242,   24,  144, 3084, 1875,  386, 1953,    3,    5,\n",
      "        1515, 1164,  104,  217]), tensor([1077,   27,  967,    3, 1113,   32,   47, 3982,  178,  128,   21, 7206,\n",
      "         365,  375,  103,   37]), tensor([ 433,   29,  595,  405,  454, 3783,  142,  758,  121,  488,  188,  257,\n",
      "          43,  219,   42,  168]), tensor([  215,    35,  2339,   160,   714, 11813,  3483,   701,   195,  4507,\n",
      "           49,   314,  8528,   227,  1036,    43]), tensor([ 253,  792,  616,   13,  189, 1309,  835,  356,   39,  128, 2323,   51,\n",
      "         380, 9427,   66,  117]), tensor([  133,   976,   197,   122,   102,   773,   376,   209,   310, 13281,\n",
      "          124,   189,   116,  7464,    44,   380]), tensor([  18,  432, 1918,   29,  375,  637,   43,   27,  583, 1045, 1666,   74,\n",
      "          63, 6170,  212, 3034]), tensor([  359,   231,   231,   720, 39358,   440,  2444,     7,    68,   185,\n",
      "          109,  8072,   171,  8545,    27,  1330]), tensor([535,  34,  28,  56, 171, 833, 171,  54, 110, 875, 807,   4,  15,  17,\n",
      "         85,  77]), tensor([ 1077,  2936,    50,   122,     9,   779,   625,    42,    41,    57,\n",
      "          174,    74, 14831, 37420,     5,    30]), tensor([  49,    3,  298,    4,  121,   22,  678,  160,   53,   34,   95,    2,\n",
      "        4392,    8,   33,  891]), tensor([1787,  143,  306,   31,   11,  275, 1057,    9,  338,  491,  447, 2483,\n",
      "         793,    1,  647, 4618]), tensor([  17,  103,   57, 2300,   15, 6657,   12,  154,   44,  674,  743, 1337,\n",
      "        2417,   47,   19,  529]), tensor([1666,  454,  326,  122,  209,   24,  171, 2130,  487,  287, 3470,  496,\n",
      "        1110,   33,   19, 1561]), tensor([  81,   17, 5573, 6031,  555,    3, 2289, 4642,  104,  530,  462, 2483,\n",
      "         464,    3,    5,   32]), tensor([ 230,   15,  376,  141, 1319,  713,   93, 2130,  112, 1232,  124,    3,\n",
      "           1,   34,   27,    5]), tensor([   8,   63,  192,   56,  373,    7, 1066, 1330,    3,   27, 2675,  375,\n",
      "         387,  180,  108,    1]), tensor([    30,     36, 104489,    648,   6191,     50,   3023,   2130,     14,\n",
      "          2596,    104,     74,   5844,   4337,    250,   5580]), tensor([ 1961,    63, 67695,    62,    86,     4,  2567,    15,    50,    13,\n",
      "          483,  8072, 13656,  1519,    44, 18273]), tensor([ 414, 1827, 8170,    2,  163,   21,   24,  486,  227,  358, 1344,   62,\n",
      "        2527,  327,   81, 1809]), tensor([   267,    948,    602,   3173,     29,   1757,    198,    735,    156,\n",
      "           358, 202171,    194,    576,      7,    273,    411]), tensor([   5,   38, 1385,  891,   64,  192, 6277, 2130,  878, 1225,  366,    7,\n",
      "         372, 1874,   43, 3702]), tensor([ 175, 1138, 1316, 3361,  150,  254, 3084,   36,  777, 1207,   80,   12,\n",
      "         684,  154,  107, 4097]), tensor([  896, 35352,    51,   504,    15,  2323,   255,     7,    20,  1393,\n",
      "          587,    22,     7,    41,    11,  2252]), tensor([   2,  128,  337,   17,  984,  378, 3084,   61,  152,   90,  198,    4,\n",
      "           9,    2,  199, 1675]), tensor([ 429, 4717, 5709,    9,  147,   29,   24,  867, 2773, 1139,   27,   27,\n",
      "           1,    2,    9, 8792]), tensor([ 275,   43, 1918,  531,   58,   48,  198,  154,  138,  491, 2469,   85,\n",
      "          18,  145,    5, 1657]), tensor([ 756,  899, 8150,   70,   85, 1365, 5312,    7,  403,  379, 1970,  211,\n",
      "          36,  233, 1996,  337]), tensor([  1052,  12573, 111100,    518,      9,   2268,   9443,     61,      2,\n",
      "           514,   5921,     22,     87,    325,      3,    545]), tensor([ 2718,     9, 30842,   967,   781,  1057,   532,     8,   252,   118,\n",
      "          237,    15,    70,    42,     2,  1001]), tensor([ 2343,   133,  1918,   224,   313, 23711,  2567,     9,   262,    12,\n",
      "           87,  1210,    16,   949,   551,    51]), tensor([ 756,   27, 1117,  436, 8773, 2628, 4998,    7, 4874,    7,   44,   31,\n",
      "           1, 1197,  517,  189]), tensor([   664,      7, 237193,   8016,   7272,   1224,    260,     61,   1853,\n",
      "           325,   3481,    100,     25,   3380,    315,     28]), tensor([  112,     2, 11628,    12,     2,    14,   136,     8,   286,     7,\n",
      "         1247,   114,  3203,    29,  2603,     2]), tensor([  275,     5,  8295,  2422,  7272,     2,   172,     9,   200,   216,\n",
      "          815,   399, 15255,   408,   396,    43]), tensor([  756,    26,    18,   823,   244,  1073,    19,  4642,    42, 14980,\n",
      "           80,    37,   948,   226,   517,     8]), tensor([   2,  167,   10, 1521,   14, 4021,  254, 1330,    7,  459,   30,   66,\n",
      "        6760,   18,   18,   68]), tensor([   8, 4900,   27,  514,  152, 6879, 1485, 2130,   56,  358,  275,   93,\n",
      "         209,   75,   21,  898]), tensor([9149,    8, 2941, 1061,   22,  607, 3483,    3,  100,   20,    3,  147,\n",
      "           1,  983, 4717,    4]), tensor([  756,    30,    21,     4,     1,   475,  3483,   653,   202,  1085,\n",
      "        24270,    94,   554,   313,     9,   545]), tensor([ 429, 2420,   38,  342,    4, 6880, 2496,    7,   39,   43,  252,  621,\n",
      "         216,   97,   33,  415]), tensor([ 577,  341,   10, 3432, 1305,   56,  476,   61, 3747,   64, 1272,  243,\n",
      "         100,  115,  220,  849]), tensor([  100,    79,   142,     2,     1,   616,   448,   107, 14482,   304,\n",
      "           73,    12,    29,     9,  2628,   457]), tensor([ 515,  128, 7800,  512,    3, 3458,   66, 1084, 8914, 1047,   29,   44,\n",
      "         247, 3006, 4912,  539]), tensor([50670,  4717,  2367,    46,    61, 21588,   218,   154,    22,   968,\n",
      "           72,     6,     9,     0,  1705,     4]), tensor([ 780,  439,  602,  723,  313, 1434,  381, 4642,  484,  647,    0,   76,\n",
      "          42,    0,   18, 2458])]\n",
      "tensor([ 0, 14,  0,  1, 14,  1,  1,  7,  0,  0, 14,  9,  3,  3,  6,  0])\n"
     ]
    }
   ],
   "source": [
    "train_dataloader = DataLoader(train_ds, batch_size=16, shuffle=True)\n",
    "val_dataloader = DataLoader(val_ds, batch_size=16, shuffle=True)\n",
    "test_dataloader = DataLoader(test_ds, batch_size=16, shuffle=True)\n",
    "i, l = iter(train_dataloader).__next__()\n",
    "print(i)\n",
    "print(l)"
   ]
  },
  {
   "cell_type": "code",
   "source": [
    "print(ds.vocab[\"lol\"])\n",
    "print(ds.pretrained_embeddings[73048,:])"
   ],
   "metadata": {
    "colab": {
     "base_uri": "https://localhost:8080/"
    },
    "id": "OUsDoOsWQt7n",
    "executionInfo": {
     "status": "ok",
     "timestamp": 1666008651182,
     "user_tz": -120,
     "elapsed": 496,
     "user": {
      "displayName": "Milán Kriston",
      "userId": "16872317853158322273"
     }
    },
    "outputId": "f472de4d-8012-437a-8b79-bed5b2ab0d2a"
   },
   "execution_count": 82,
   "outputs": [
    {
     "output_type": "stream",
     "name": "stdout",
     "text": [
      "73048\n",
      "tensor([ 0.2824,  0.0689, -0.1381,  0.2578, -0.5909,  0.1503,  0.5107, -0.3674,\n",
      "        -0.0866,  0.1403,  0.8691,  0.4609,  0.3474,  0.3024, -0.6127,  0.1721,\n",
      "        -0.7481,  0.8336, -0.3853,  0.1543,  0.2961, -0.3778, -0.3465,  0.0034,\n",
      "        -0.3395,  0.3723,  0.1311, -0.2882, -0.9532, -0.0277, -0.3494,  0.4386,\n",
      "         0.2196,  0.6655,  0.0415, -0.1712,  0.2894, -0.1587, -0.0215,  0.3617,\n",
      "         0.6830, -0.1733, -0.0644,  0.5270, -0.5397, -0.2778,  0.0824,  0.5076,\n",
      "        -0.0374, -0.2469])\n"
     ]
    }
   ]
  },
  {
   "cell_type": "code",
   "execution_count": 38,
   "outputs": [],
   "source": [
    "df = pd.read_csv('data/MBTI 500.csv')"
   ],
   "metadata": {
    "collapsed": false,
    "pycharm": {
     "name": "#%%\n"
    }
   }
  },
  {
   "cell_type": "code",
   "execution_count": 39,
   "outputs": [],
   "source": [],
   "metadata": {
    "collapsed": false,
    "pycharm": {
     "name": "#%%\n"
    }
   }
  },
  {
   "cell_type": "code",
   "execution_count": 40,
   "outputs": [],
   "source": [
    "df = splitter(df, 200)"
   ],
   "metadata": {
    "collapsed": false,
    "pycharm": {
     "name": "#%%\n"
    }
   }
  },
  {
   "cell_type": "code",
   "execution_count": 44,
   "outputs": [
    {
     "data": {
      "text/plain": "101"
     },
     "execution_count": 44,
     "metadata": {},
     "output_type": "execute_result"
    }
   ],
   "source": [
    "len(df['posts'][2].split(' '))"
   ],
   "metadata": {
    "collapsed": false,
    "pycharm": {
     "name": "#%%\n"
    }
   }
  },
  {
   "cell_type": "code",
   "execution_count": 23,
   "outputs": [
    {
     "data": {
      "text/plain": "                                                    posts  type\n0       know intj tool use interaction people excuse a...  INTJ\n1       rap music ehh opp yeah know valid well know fa...  INTJ\n2       preferably p hd low except wew lad video p min...  INTJ\n3       drink like wish could drink red wine give head...  INTJ\n4       space program ah bad deal meing freelance max ...  INTJ\n...                                                   ...   ...\n106062  stay frustrate world life want take long nap w...  INFP\n106063  fizzle around time mention sure mistake thing ...  INFP\n106064  schedule modify hey w intp strong wing underst...  INFP\n106065  enfj since january busy schedule able spend li...  INFP\n106066  feel like men good problem tell parent want te...  INFP\n\n[106067 rows x 2 columns]",
      "text/html": "<div>\n<style scoped>\n    .dataframe tbody tr th:only-of-type {\n        vertical-align: middle;\n    }\n\n    .dataframe tbody tr th {\n        vertical-align: top;\n    }\n\n    .dataframe thead th {\n        text-align: right;\n    }\n</style>\n<table border=\"1\" class=\"dataframe\">\n  <thead>\n    <tr style=\"text-align: right;\">\n      <th></th>\n      <th>posts</th>\n      <th>type</th>\n    </tr>\n  </thead>\n  <tbody>\n    <tr>\n      <th>0</th>\n      <td>know intj tool use interaction people excuse a...</td>\n      <td>INTJ</td>\n    </tr>\n    <tr>\n      <th>1</th>\n      <td>rap music ehh opp yeah know valid well know fa...</td>\n      <td>INTJ</td>\n    </tr>\n    <tr>\n      <th>2</th>\n      <td>preferably p hd low except wew lad video p min...</td>\n      <td>INTJ</td>\n    </tr>\n    <tr>\n      <th>3</th>\n      <td>drink like wish could drink red wine give head...</td>\n      <td>INTJ</td>\n    </tr>\n    <tr>\n      <th>4</th>\n      <td>space program ah bad deal meing freelance max ...</td>\n      <td>INTJ</td>\n    </tr>\n    <tr>\n      <th>...</th>\n      <td>...</td>\n      <td>...</td>\n    </tr>\n    <tr>\n      <th>106062</th>\n      <td>stay frustrate world life want take long nap w...</td>\n      <td>INFP</td>\n    </tr>\n    <tr>\n      <th>106063</th>\n      <td>fizzle around time mention sure mistake thing ...</td>\n      <td>INFP</td>\n    </tr>\n    <tr>\n      <th>106064</th>\n      <td>schedule modify hey w intp strong wing underst...</td>\n      <td>INFP</td>\n    </tr>\n    <tr>\n      <th>106065</th>\n      <td>enfj since january busy schedule able spend li...</td>\n      <td>INFP</td>\n    </tr>\n    <tr>\n      <th>106066</th>\n      <td>feel like men good problem tell parent want te...</td>\n      <td>INFP</td>\n    </tr>\n  </tbody>\n</table>\n<p>106067 rows × 2 columns</p>\n</div>"
     },
     "execution_count": 23,
     "metadata": {},
     "output_type": "execute_result"
    }
   ],
   "source": [
    "df"
   ],
   "metadata": {
    "collapsed": false,
    "pycharm": {
     "name": "#%%\n"
    }
   }
  },
  {
   "cell_type": "code",
   "execution_count": 42,
   "outputs": [
    {
     "data": {
      "text/plain": "                                                    posts  type\n0       know intj tool use interaction people excuse a...  INTJ\n1       little aggressive always walk away flatter lik...  INTJ\n2       individual farmer individual farmer corporatio...  INTJ\n3       rap music ehh opp yeah know valid well know fa...  INTJ\n4       back claim get back liam nesson realization co...  INTJ\n...                                                   ...   ...\n318196  hear know really complicate wish seem way mind...  INFP\n318197  seem change one bite must say good back somewh...  INFP\n318198  feel like men good problem tell parent want te...  INFP\n318199  fine ad make website know sometimes need recco...  INFP\n318200  remember people currently read white wolf son ...  INFP\n\n[318201 rows x 2 columns]",
      "text/html": "<div>\n<style scoped>\n    .dataframe tbody tr th:only-of-type {\n        vertical-align: middle;\n    }\n\n    .dataframe tbody tr th {\n        vertical-align: top;\n    }\n\n    .dataframe thead th {\n        text-align: right;\n    }\n</style>\n<table border=\"1\" class=\"dataframe\">\n  <thead>\n    <tr style=\"text-align: right;\">\n      <th></th>\n      <th>posts</th>\n      <th>type</th>\n    </tr>\n  </thead>\n  <tbody>\n    <tr>\n      <th>0</th>\n      <td>know intj tool use interaction people excuse a...</td>\n      <td>INTJ</td>\n    </tr>\n    <tr>\n      <th>1</th>\n      <td>little aggressive always walk away flatter lik...</td>\n      <td>INTJ</td>\n    </tr>\n    <tr>\n      <th>2</th>\n      <td>individual farmer individual farmer corporatio...</td>\n      <td>INTJ</td>\n    </tr>\n    <tr>\n      <th>3</th>\n      <td>rap music ehh opp yeah know valid well know fa...</td>\n      <td>INTJ</td>\n    </tr>\n    <tr>\n      <th>4</th>\n      <td>back claim get back liam nesson realization co...</td>\n      <td>INTJ</td>\n    </tr>\n    <tr>\n      <th>...</th>\n      <td>...</td>\n      <td>...</td>\n    </tr>\n    <tr>\n      <th>318196</th>\n      <td>hear know really complicate wish seem way mind...</td>\n      <td>INFP</td>\n    </tr>\n    <tr>\n      <th>318197</th>\n      <td>seem change one bite must say good back somewh...</td>\n      <td>INFP</td>\n    </tr>\n    <tr>\n      <th>318198</th>\n      <td>feel like men good problem tell parent want te...</td>\n      <td>INFP</td>\n    </tr>\n    <tr>\n      <th>318199</th>\n      <td>fine ad make website know sometimes need recco...</td>\n      <td>INFP</td>\n    </tr>\n    <tr>\n      <th>318200</th>\n      <td>remember people currently read white wolf son ...</td>\n      <td>INFP</td>\n    </tr>\n  </tbody>\n</table>\n<p>318201 rows × 2 columns</p>\n</div>"
     },
     "execution_count": 42,
     "metadata": {},
     "output_type": "execute_result"
    }
   ],
   "source": [
    "df\n"
   ],
   "metadata": {
    "collapsed": false,
    "pycharm": {
     "name": "#%%\n"
    }
   }
  }
 ],
 "metadata": {
  "kernelspec": {
   "display_name": "Python 3 (ipykernel)",
   "language": "python",
   "name": "python3"
  },
  "language_info": {
   "codemirror_mode": {
    "name": "ipython",
    "version": 3
   },
   "file_extension": ".py",
   "mimetype": "text/x-python",
   "name": "python",
   "nbconvert_exporter": "python",
   "pygments_lexer": "ipython3",
   "version": "3.10.6"
  },
  "colab": {
   "provenance": [],
   "collapsed_sections": []
  }
 },
 "nbformat": 4,
 "nbformat_minor": 0
}